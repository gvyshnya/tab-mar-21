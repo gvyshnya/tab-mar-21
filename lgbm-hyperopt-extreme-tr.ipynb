{
 "cells": [
  {
   "cell_type": "markdown",
   "metadata": {
    "papermill": {
     "duration": 0.012352,
     "end_time": "2021-02-19T02:57:45.814025",
     "exception": false,
     "start_time": "2021-02-19T02:57:45.801673",
     "status": "completed"
    },
    "tags": []
   },
   "source": [
    "# LGBM: HyperOpt and Extreme Training\n",
    "\n",
    "Inspired by https://www.kaggle.com/prashant111/lightgbm-classifier-in-python"
   ]
  },
  {
   "cell_type": "code",
   "execution_count": 1,
   "metadata": {
    "execution": {
     "iopub.execute_input": "2021-02-19T02:57:45.841283Z",
     "iopub.status.busy": "2021-02-19T02:57:45.840312Z",
     "iopub.status.idle": "2021-02-19T02:57:47.963517Z",
     "shell.execute_reply": "2021-02-19T02:57:47.964045Z"
    },
    "papermill": {
     "duration": 2.138608,
     "end_time": "2021-02-19T02:57:47.964373",
     "exception": false,
     "start_time": "2021-02-19T02:57:45.825765",
     "status": "completed"
    },
    "tags": []
   },
   "outputs": [
    {
     "name": "stderr",
     "output_type": "stream",
     "text": [
      "C:\\ProgramData\\Anaconda3\\lib\\site-packages\\numpy\\_distributor_init.py:32: UserWarning: loaded more than 1 DLL from .libs:\n",
      "C:\\ProgramData\\Anaconda3\\lib\\site-packages\\numpy\\.libs\\libopenblas.IPBC74C7KURV7CB2PKT5Z5FNR3SIBV4J.gfortran-win_amd64.dll\n",
      "C:\\ProgramData\\Anaconda3\\lib\\site-packages\\numpy\\.libs\\libopenblas.WCDJNK7YVMPZQ2ME2ZZHJJRJ3JIKNDB7.gfortran-win_amd64.dll\n",
      "  stacklevel=1)\n"
     ]
    }
   ],
   "source": [
    "import pandas as pd\n",
    "import numpy as np\n",
    "\n",
    "import datetime as dt\n",
    "from typing import Tuple, List, Dict\n",
    "\n",
    "from sklearn.metrics import auc, roc_curve\n",
    "\n",
    "\n",
    "from sklearn.model_selection import train_test_split, KFold, GridSearchCV, cross_validate\n",
    "from sklearn.preprocessing import StandardScaler, LabelEncoder\n",
    "\n",
    "import lightgbm as lgbm\n",
    "from lightgbm import LGBMClassifier\n",
    "\n",
    "from hyperopt import STATUS_OK, Trials, fmin, hp, tpe\n",
    "from hyperopt.pyll.base import scope\n",
    "\n",
    "from functools import partial\n",
    "\n",
    "import warnings\n",
    "warnings.filterwarnings('ignore')"
   ]
  },
  {
   "cell_type": "code",
   "execution_count": 2,
   "metadata": {},
   "outputs": [
    {
     "name": "stdout",
     "output_type": "stream",
     "text": [
      "Started at  2021-03-09 20:52:43.046000\n"
     ]
    }
   ],
   "source": [
    "# main flow\n",
    "start_time = dt.datetime.now()\n",
    "print(\"Started at \", start_time)"
   ]
  },
  {
   "cell_type": "code",
   "execution_count": 3,
   "metadata": {},
   "outputs": [],
   "source": [
    "# read data\n",
    "in_kaggle = False\n",
    "\n",
    "\n",
    "def get_data_file_path(is_in_kaggle: bool) -> Tuple[str, str, str]:\n",
    "    train_path = ''\n",
    "    test_path = ''\n",
    "    sample_submission_path = ''\n",
    "\n",
    "    if is_in_kaggle:\n",
    "        # running in Kaggle, inside the competition\n",
    "        train_path = '../input/tabular-playground-series-mar-2021/train.csv'\n",
    "        test_path = '../input/tabular-playground-series-mar-2021/test.csv'\n",
    "        sample_submission_path = '../input/tabular-playground-series-mar-2021/sample_submission.csv'\n",
    "    else:\n",
    "        # running locally\n",
    "        train_path = 'data/train.csv'\n",
    "        test_path = 'data/test.csv'\n",
    "        sample_submission_path = 'data/sample_submission.csv'\n",
    "\n",
    "    return train_path, test_path, sample_submission_path\n"
   ]
  },
  {
   "cell_type": "code",
   "execution_count": 4,
   "metadata": {
    "execution": {
     "iopub.execute_input": "2021-02-19T02:57:47.992994Z",
     "iopub.status.busy": "2021-02-19T02:57:47.992059Z",
     "iopub.status.idle": "2021-02-19T02:57:52.182932Z",
     "shell.execute_reply": "2021-02-19T02:57:52.182337Z"
    },
    "papermill": {
     "duration": 4.206009,
     "end_time": "2021-02-19T02:57:52.183073",
     "exception": false,
     "start_time": "2021-02-19T02:57:47.977064",
     "status": "completed"
    },
    "tags": []
   },
   "outputs": [
    {
     "name": "stdout",
     "output_type": "stream",
     "text": [
      "Wall time: 1.67 s\n"
     ]
    }
   ],
   "source": [
    "%%time\n",
    "# get the training set and labels\n",
    "train_set_path, test_set_path, sample_subm_path = get_data_file_path(in_kaggle)\n",
    "\n",
    "train = pd.read_csv(train_set_path)\n",
    "test = pd.read_csv(test_set_path)\n",
    "target = train.target\n",
    "\n",
    "test_id = test.id\n",
    "\n",
    "subm = pd.read_csv(sample_subm_path)"
   ]
  },
  {
   "cell_type": "code",
   "execution_count": 5,
   "metadata": {},
   "outputs": [
    {
     "name": "stdout",
     "output_type": "stream",
     "text": [
      "<class 'pandas.core.frame.DataFrame'>\n",
      "RangeIndex: 300000 entries, 0 to 299999\n",
      "Data columns (total 32 columns):\n",
      " #   Column  Non-Null Count   Dtype  \n",
      "---  ------  --------------   -----  \n",
      " 0   id      300000 non-null  int64  \n",
      " 1   cat0    300000 non-null  object \n",
      " 2   cat1    300000 non-null  object \n",
      " 3   cat2    300000 non-null  object \n",
      " 4   cat3    300000 non-null  object \n",
      " 5   cat4    300000 non-null  object \n",
      " 6   cat5    300000 non-null  object \n",
      " 7   cat6    300000 non-null  object \n",
      " 8   cat7    300000 non-null  object \n",
      " 9   cat8    300000 non-null  object \n",
      " 10  cat9    300000 non-null  object \n",
      " 11  cat10   300000 non-null  object \n",
      " 12  cat11   300000 non-null  object \n",
      " 13  cat12   300000 non-null  object \n",
      " 14  cat13   300000 non-null  object \n",
      " 15  cat14   300000 non-null  object \n",
      " 16  cat15   300000 non-null  object \n",
      " 17  cat16   300000 non-null  object \n",
      " 18  cat17   300000 non-null  object \n",
      " 19  cat18   300000 non-null  object \n",
      " 20  cont0   300000 non-null  float64\n",
      " 21  cont1   300000 non-null  float64\n",
      " 22  cont2   300000 non-null  float64\n",
      " 23  cont3   300000 non-null  float64\n",
      " 24  cont4   300000 non-null  float64\n",
      " 25  cont5   300000 non-null  float64\n",
      " 26  cont6   300000 non-null  float64\n",
      " 27  cont7   300000 non-null  float64\n",
      " 28  cont8   300000 non-null  float64\n",
      " 29  cont9   300000 non-null  float64\n",
      " 30  cont10  300000 non-null  float64\n",
      " 31  target  300000 non-null  int64  \n",
      "dtypes: float64(11), int64(2), object(19)\n",
      "memory usage: 73.2+ MB\n"
     ]
    }
   ],
   "source": [
    "train.info()"
   ]
  },
  {
   "cell_type": "code",
   "execution_count": 6,
   "metadata": {
    "execution": {
     "iopub.execute_input": "2021-02-19T02:57:52.319803Z",
     "iopub.status.busy": "2021-02-19T02:57:52.319147Z",
     "iopub.status.idle": "2021-02-19T02:57:52.324742Z",
     "shell.execute_reply": "2021-02-19T02:57:52.324193Z"
    },
    "papermill": {
     "duration": 0.020649,
     "end_time": "2021-02-19T02:57:52.324883",
     "exception": false,
     "start_time": "2021-02-19T02:57:52.304234",
     "status": "completed"
    },
    "tags": []
   },
   "outputs": [],
   "source": [
    "cols_to_drop = ['id', 'cat5', 'cat7', 'cat8', 'cat10']\n",
    "\n",
    "cat_cols = [feature for feature in train.columns if 'cat' in feature and feature not in cols_to_drop ]\n",
    "cont_cols = [feature for feature in train.columns if 'cont' in feature and feature not in cols_to_drop]\n",
    "\n",
    "all_features = cat_cols + cont_cols\n",
    "\n",
    "def preprocess(df, encoder=None,\n",
    "               scaler=None, cols_to_drop=None,\n",
    "               cols_to_encode=None, cols_to_scale=None):\n",
    "    \"\"\"\n",
    "    Preprocess input data\n",
    "    :param df: DataFrame with data\n",
    "    :param encoder: encoder object with fit_transform method\n",
    "    :param scaler: scaler object with fit_transform method\n",
    "    :param cols_to_drop: columns to be removed\n",
    "    :param cols_to_encode: columns to be encoded\n",
    "    :param cols_to_scale: columns to be scaled\n",
    "    :return: DataFrame\n",
    "    \"\"\"\n",
    "\n",
    "    if encoder:\n",
    "        for col in cols_to_encode:\n",
    "            df[col] = encoder.fit_transform(df[col])\n",
    "\n",
    "    if scaler:\n",
    "        for col in cols_to_scale:\n",
    "            df[col] = scaler.fit_transform(df[col].values.reshape(-1, 1))\n",
    "\n",
    "    if cols_to_drop:\n",
    "        df = df.drop(cols_to_drop, axis=1)\n",
    "\n",
    "    return df"
   ]
  },
  {
   "cell_type": "code",
   "execution_count": 7,
   "metadata": {
    "execution": {
     "iopub.execute_input": "2021-02-19T02:57:52.449340Z",
     "iopub.status.busy": "2021-02-19T02:57:52.375160Z",
     "iopub.status.idle": "2021-02-19T02:57:54.155477Z",
     "shell.execute_reply": "2021-02-19T02:57:54.154847Z"
    },
    "papermill": {
     "duration": 1.818185,
     "end_time": "2021-02-19T02:57:54.155645",
     "exception": false,
     "start_time": "2021-02-19T02:57:52.337460",
     "status": "completed"
    },
    "tags": []
   },
   "outputs": [],
   "source": [
    "train = preprocess(train, encoder=LabelEncoder(), scaler=StandardScaler(),\n",
    "                  cols_to_drop=cols_to_drop, cols_to_encode=cat_cols,\n",
    "                  cols_to_scale=cont_cols)\n",
    "\n",
    "# encoder=LabelEncoder()\n",
    "test = preprocess(test, encoder=LabelEncoder(), scaler=StandardScaler(),\n",
    "                 cols_to_drop=cols_to_drop, cols_to_encode=cat_cols,\n",
    "                 cols_to_scale=cont_cols)"
   ]
  },
  {
   "cell_type": "code",
   "execution_count": 8,
   "metadata": {},
   "outputs": [],
   "source": [
    "# ------------------------------------------------------------------------------\n",
    "# Parameters\n",
    "# ------------------------------------------------------------------------------\n",
    "N_FOLDS = 10\n",
    "N_ESTIMATORS = 30000\n",
    "SEED = 2021\n",
    "BAGGING_SEED = 48\n",
    "\n",
    "# ------------------------------------------------------------------------------\n",
    "# LightGBM: example params\n",
    "# ------------------------------------------------------------------------------\n",
    "lgbm_params_et = {'random_state': SEED,\n",
    "          'metric': 'auc',\n",
    "          'n_estimators': N_ESTIMATORS,\n",
    "          'n_jobs': -1,\n",
    "          'cat_feature': [x for x in range(len(cat_cols))],\n",
    "          'bagging_seed': SEED,\n",
    "          'feature_fraction_seed': SEED,\n",
    "          'learning_rate': 0.003899156646724397,\n",
    "          'max_depth': 99,\n",
    "          'num_leaves': 63,\n",
    "          'reg_alpha': 9.562925363678952,\n",
    "          'reg_lambda': 9.355810045480153,\n",
    "          'colsample_bytree': 0.2256038826485174,\n",
    "          'min_child_samples': 290,\n",
    "          'subsample_freq': 1,\n",
    "          'subsample': 0.8805303688019942,\n",
    "          'max_bin': 882,\n",
    "          'min_data_per_group': 127,\n",
    "          'cat_smooth': 96,\n",
    "          'cat_l2': 19\n",
    "          }"
   ]
  },
  {
   "cell_type": "code",
   "execution_count": 9,
   "metadata": {},
   "outputs": [],
   "source": [
    "lgb_search_params = {\n",
    "        \"num_leaves\": scope.int(hp.quniform(\"num_leaves\", 31, 250, 1)),\n",
    "        \"max_depth\": scope.int(hp.quniform(\"max_depth\", 10, 24, 1)),\n",
    "        'learning_rate': hp.uniform('learning_rate', 0.01, 0.3),\n",
    "        'subsample_for_bin': scope.int(hp.quniform('subsample_for_bin', 10000, 300000, 10000)),\n",
    "        'min_data_in_leaf': scope.int(hp.qloguniform('min_data_in_leaf', 0, 6, 1)),\n",
    "    \n",
    "    \n",
    "    \n",
    "        'min_split_gain': hp.uniform('min_split_gain', 0, 1.0),\n",
    "        'min_child_samples': scope.int(hp.quniform(\"min_child_samples\", 2, 700, 1)),\n",
    "        \"subsample\": hp.uniform(\"subsample\", 0.2, 1.0), #alias: bagging_fraction\n",
    "        \"colsample_bytree\": hp.uniform(\"colsample_bytree\", 0.5, 1.0), # alias: feature_fraction\n",
    "        'reg_alpha': hp.uniform('reg_alpha', 1e-5, 1.0),\n",
    "        'reg_lambda': hp.uniform('reg_lambda', 0, 50),\n",
    "    \n",
    "        'min_sum_hessian_in_leaf': None, #overrides min_child_weight\n",
    "        'min_child_weight': hp.loguniform('min_child_weight', -16, 5), #also aliases to min_sum_hessian\n",
    "        'min_child_samples': None, #overridden by min_data_in_leaf\n",
    "        'n_estimators': 2000\n",
    "}\n",
    "\n",
    "#         'boosting_type': hp.choice('boosting_type', [{'boosting_type': 'gbdt'}, \n",
    "#                                                 {'boosting_type': 'dart'},\n",
    "#                                                 {'boosting_type': 'goss'}]),\n",
    "#\n",
    "#    'boosting_type_choice': hp.choice('boosting_type', \n",
    "#                                      [{'boosting_type': 'gbdt', 'subsample': hp.uniform('gbdt_subsample', 0.5, 1)}, \n",
    "#                                       {'boosting_type': 'dart', 'subsample': hp.uniform('dart_subsample', 0.5, 1)},\n",
    "#                                       {'boosting_type': 'goss', 'subsample': 1.0}]),\n",
    "#        'n_jobs': -1,\n",
    "\n",
    "def lgbm_search(params):\n",
    "    X_train, X_test, y_train, y_test = train_test_split(X, y, test_size=0.2, random_state=22)\n",
    "\n",
    "    model = LGBMClassifier(boosting_type='gbdt', **params) # boosting_type='gbdt',\n",
    "\n",
    "    evaluation = [(X_test, y_test)]\n",
    "\n",
    "    model.fit(X_train, y_train,\n",
    "              eval_set=evaluation, eval_metric='auc', categorical_feature=cat_cols,\n",
    "              early_stopping_rounds=100, verbose=False)\n",
    "\n",
    "    val_preds = model.predict(X_test)\n",
    "    \n",
    "    fpr, tpr, thresholds = roc_curve(y_test, val_preds, pos_label = 1)\n",
    "    auc_score = auc(fpr, tpr)\n",
    "\n",
    "    return {\"loss\": auc_score, \"status\": STATUS_OK}"
   ]
  },
  {
   "cell_type": "code",
   "execution_count": 10,
   "metadata": {},
   "outputs": [],
   "source": [
    "# search for model\n",
    "\n",
    "X = train[all_features]\n",
    "y = target\n",
    "\n",
    "\n",
    "trials = Trials()\n",
    "\n",
    "#best_hyperparams = fmin(fn=lgbm_search,\n",
    "#                       space=lgb_search_params,\n",
    "#                       algo=tpe.suggest,\n",
    "#                       max_evals=100,\n",
    "#                       trials=trials)"
   ]
  },
  {
   "cell_type": "code",
   "execution_count": 11,
   "metadata": {},
   "outputs": [],
   "source": [
    "# best_hyperparams"
   ]
  },
  {
   "cell_type": "code",
   "execution_count": 12,
   "metadata": {},
   "outputs": [],
   "source": [
    "lgbm_params = {\n",
    "    'boosting_type': 'gbdt',\n",
    "    'objective': 'binary',\n",
    "    'metric': 'auc',\n",
    "    'random_state': SEED,\n",
    "    'n_estimators': N_ESTIMATORS,\n",
    "    'n_jobs': -1,\n",
    "    'cat_feature': [x for x in range(len(cat_cols))],\n",
    "    'bagging_seed': SEED,\n",
    "    'feature_fraction_seed': SEED,\n",
    "    \n",
    "    \n",
    "    'colsample_bytree': 0.7671990402625448,\n",
    "     'learning_rate': 0.019767284,\n",
    "     'max_depth': 15,\n",
    "     'min_child_weight': 0.0002777396522195953,\n",
    "     'min_data_in_leaf': 57,\n",
    "     'min_split_gain': 0.21136452616481655,\n",
    "     'num_leaves': 175,\n",
    "     'reg_alpha': 0.11063887315135824,\n",
    "     'reg_lambda': 18.001114258982668,\n",
    "     'subsample': 0.9818248529067929,\n",
    "     'subsample_for_bin': 180000\n",
    "}\n"
   ]
  },
  {
   "cell_type": "code",
   "execution_count": 13,
   "metadata": {},
   "outputs": [
    {
     "name": "stdout",
     "output_type": "stream",
     "text": [
      "[LightGBM] [Warning] min_data_in_leaf is set=57, min_child_samples=20 will be ignored. Current value: min_data_in_leaf=57\n",
      "AUC Score Fold-1, Base model : 0.7828715624509706\n",
      "[LightGBM] [Warning] min_data_in_leaf is set=57, min_child_samples=20 will be ignored. Current value: min_data_in_leaf=57\n",
      "AUC for the Incremental trial 1 model is 0.7830065243376622\n",
      "[LightGBM] [Warning] min_data_in_leaf is set=57, min_child_samples=20 will be ignored. Current value: min_data_in_leaf=57\n",
      "AUC for the Incremental trial 2 model is 0.7830755816287732\n",
      "[LightGBM] [Warning] min_data_in_leaf is set=57, min_child_samples=20 will be ignored. Current value: min_data_in_leaf=57\n",
      "AUC for the Incremental trial 3 model is 0.7833188584954267\n",
      "[LightGBM] [Warning] min_data_in_leaf is set=57, min_child_samples=20 will be ignored. Current value: min_data_in_leaf=57\n",
      "AUC for the Incremental trial 4 model is 0.783336910992087\n",
      "[LightGBM] [Warning] min_data_in_leaf is set=57, min_child_samples=20 will be ignored. Current value: min_data_in_leaf=57\n",
      "AUC for the Incremental trial 5 model is 0.7833667105943473\n",
      "[LightGBM] [Warning] min_data_in_leaf is set=57, min_child_samples=20 will be ignored. Current value: min_data_in_leaf=57\n",
      "AUC for the Incremental trial 6 model is 0.7833486580976868\n",
      "\n",
      "\n",
      "AUC Improvement of : 0.0004770956467162746\n",
      "----------------------------------------------------------------------------------------------------\n",
      "[LightGBM] [Warning] min_data_in_leaf is set=57, min_child_samples=20 will be ignored. Current value: min_data_in_leaf=57\n",
      "AUC Score Fold-2, Base model : 0.7743445139148938\n",
      "[LightGBM] [Warning] min_data_in_leaf is set=57, min_child_samples=20 will be ignored. Current value: min_data_in_leaf=57\n",
      "AUC for the Incremental trial 1 model is 0.7742130707527729\n",
      "[LightGBM] [Warning] min_data_in_leaf is set=57, min_child_samples=20 will be ignored. Current value: min_data_in_leaf=57\n",
      "AUC for the Incremental trial 2 model is 0.7742494661523945\n",
      "[LightGBM] [Warning] min_data_in_leaf is set=57, min_child_samples=20 will be ignored. Current value: min_data_in_leaf=57\n",
      "AUC for the Incremental trial 3 model is 0.7746033409756895\n",
      "[LightGBM] [Warning] min_data_in_leaf is set=57, min_child_samples=20 will be ignored. Current value: min_data_in_leaf=57\n",
      "AUC for the Incremental trial 4 model is 0.7744624721893253\n",
      "[LightGBM] [Warning] min_data_in_leaf is set=57, min_child_samples=20 will be ignored. Current value: min_data_in_leaf=57\n",
      "AUC for the Incremental trial 5 model is 0.7743943942022042\n",
      "[LightGBM] [Warning] min_data_in_leaf is set=57, min_child_samples=20 will be ignored. Current value: min_data_in_leaf=57\n",
      "AUC for the Incremental trial 6 model is 0.7751742810993607\n",
      "\n",
      "\n",
      "AUC Improvement of : 0.000829767184466923\n",
      "----------------------------------------------------------------------------------------------------\n",
      "[LightGBM] [Warning] min_data_in_leaf is set=57, min_child_samples=20 will be ignored. Current value: min_data_in_leaf=57\n",
      "AUC Score Fold-3, Base model : 0.7810177960525836\n",
      "[LightGBM] [Warning] min_data_in_leaf is set=57, min_child_samples=20 will be ignored. Current value: min_data_in_leaf=57\n",
      "AUC for the Incremental trial 1 model is 0.7810177960525836\n",
      "[LightGBM] [Warning] min_data_in_leaf is set=57, min_child_samples=20 will be ignored. Current value: min_data_in_leaf=57\n",
      "AUC for the Incremental trial 2 model is 0.7810177960525836\n",
      "[LightGBM] [Warning] min_data_in_leaf is set=57, min_child_samples=20 will be ignored. Current value: min_data_in_leaf=57\n",
      "AUC for the Incremental trial 3 model is 0.7810359323651085\n",
      "[LightGBM] [Warning] min_data_in_leaf is set=57, min_child_samples=20 will be ignored. Current value: min_data_in_leaf=57\n",
      "AUC for the Incremental trial 4 model is 0.7809352375710295\n",
      "[LightGBM] [Warning] min_data_in_leaf is set=57, min_child_samples=20 will be ignored. Current value: min_data_in_leaf=57\n",
      "AUC for the Incremental trial 5 model is 0.7809533738835543\n",
      "[LightGBM] [Warning] min_data_in_leaf is set=57, min_child_samples=20 will be ignored. Current value: min_data_in_leaf=57\n",
      "AUC for the Incremental trial 6 model is 0.7809574354240896\n",
      "\n",
      "\n",
      "AUC Improvement of : -6.036062849401613e-05\n",
      "----------------------------------------------------------------------------------------------------\n",
      "[LightGBM] [Warning] min_data_in_leaf is set=57, min_child_samples=20 will be ignored. Current value: min_data_in_leaf=57\n",
      "AUC Score Fold-4, Base model : 0.7752556379362593\n",
      "[LightGBM] [Warning] min_data_in_leaf is set=57, min_child_samples=20 will be ignored. Current value: min_data_in_leaf=57\n",
      "AUC for the Incremental trial 1 model is 0.7752556379362593\n",
      "[LightGBM] [Warning] min_data_in_leaf is set=57, min_child_samples=20 will be ignored. Current value: min_data_in_leaf=57\n",
      "AUC for the Incremental trial 2 model is 0.7752556379362593\n",
      "[LightGBM] [Warning] min_data_in_leaf is set=57, min_child_samples=20 will be ignored. Current value: min_data_in_leaf=57\n",
      "AUC for the Incremental trial 3 model is 0.7752737814880409\n",
      "[LightGBM] [Warning] min_data_in_leaf is set=57, min_child_samples=20 will be ignored. Current value: min_data_in_leaf=57\n",
      "AUC for the Incremental trial 4 model is 0.7752053462444468\n",
      "[LightGBM] [Warning] min_data_in_leaf is set=57, min_child_samples=20 will be ignored. Current value: min_data_in_leaf=57\n",
      "AUC for the Incremental trial 5 model is 0.7752737814880409\n",
      "[LightGBM] [Warning] min_data_in_leaf is set=57, min_child_samples=20 will be ignored. Current value: min_data_in_leaf=57\n",
      "AUC for the Incremental trial 6 model is 0.775360360283417\n",
      "\n",
      "\n",
      "AUC Improvement of : 0.00010472234715774853\n",
      "----------------------------------------------------------------------------------------------------\n",
      "[LightGBM] [Warning] min_data_in_leaf is set=57, min_child_samples=20 will be ignored. Current value: min_data_in_leaf=57\n",
      "AUC Score Fold-5, Base model : 0.7747634793945885\n",
      "[LightGBM] [Warning] min_data_in_leaf is set=57, min_child_samples=20 will be ignored. Current value: min_data_in_leaf=57\n",
      "AUC for the Incremental trial 1 model is 0.7748219859341478\n",
      "[LightGBM] [Warning] min_data_in_leaf is set=57, min_child_samples=20 will be ignored. Current value: min_data_in_leaf=57\n",
      "AUC for the Incremental trial 2 model is 0.7745340724139155\n",
      "[LightGBM] [Warning] min_data_in_leaf is set=57, min_child_samples=20 will be ignored. Current value: min_data_in_leaf=57\n",
      "AUC for the Incremental trial 3 model is 0.774612498015625\n",
      "[LightGBM] [Warning] min_data_in_leaf is set=57, min_child_samples=20 will be ignored. Current value: min_data_in_leaf=57\n",
      "AUC for the Incremental trial 4 model is 0.7747131522682672\n",
      "[LightGBM] [Warning] min_data_in_leaf is set=57, min_child_samples=20 will be ignored. Current value: min_data_in_leaf=57\n",
      "AUC for the Incremental trial 5 model is 0.7750010657884996\n",
      "[LightGBM] [Warning] min_data_in_leaf is set=57, min_child_samples=20 will be ignored. Current value: min_data_in_leaf=57\n",
      "AUC for the Incremental trial 6 model is 0.774932599717865\n",
      "\n",
      "\n",
      "AUC Improvement of : 0.00016912032327653925\n",
      "----------------------------------------------------------------------------------------------------\n",
      "[LightGBM] [Warning] min_data_in_leaf is set=57, min_child_samples=20 will be ignored. Current value: min_data_in_leaf=57\n",
      "AUC Score Fold-6, Base model : 0.7785448339920217\n",
      "[LightGBM] [Warning] min_data_in_leaf is set=57, min_child_samples=20 will be ignored. Current value: min_data_in_leaf=57\n",
      "AUC for the Incremental trial 1 model is 0.7786044385482489\n",
      "[LightGBM] [Warning] min_data_in_leaf is set=57, min_child_samples=20 will be ignored. Current value: min_data_in_leaf=57\n",
      "AUC for the Incremental trial 2 model is 0.7786044385482489\n",
      "[LightGBM] [Warning] min_data_in_leaf is set=57, min_child_samples=20 will be ignored. Current value: min_data_in_leaf=57\n",
      "AUC for the Incremental trial 3 model is 0.7785542981551483\n",
      "[LightGBM] [Warning] min_data_in_leaf is set=57, min_child_samples=20 will be ignored. Current value: min_data_in_leaf=57\n",
      "AUC for the Incremental trial 4 model is 0.7785542981551483\n",
      "[LightGBM] [Warning] min_data_in_leaf is set=57, min_child_samples=20 will be ignored. Current value: min_data_in_leaf=57\n",
      "AUC for the Incremental trial 5 model is 0.7785862752236339\n",
      "[LightGBM] [Warning] min_data_in_leaf is set=57, min_child_samples=20 will be ignored. Current value: min_data_in_leaf=57\n"
     ]
    },
    {
     "name": "stdout",
     "output_type": "stream",
     "text": [
      "AUC for the Incremental trial 6 model is 0.7785862752236339\n",
      "\n",
      "\n",
      "AUC Improvement of : 4.144123161220481e-05\n",
      "----------------------------------------------------------------------------------------------------\n",
      "[LightGBM] [Warning] min_data_in_leaf is set=57, min_child_samples=20 will be ignored. Current value: min_data_in_leaf=57\n",
      "AUC Score Fold-7, Base model : 0.7762034300142353\n",
      "[LightGBM] [Warning] min_data_in_leaf is set=57, min_child_samples=20 will be ignored. Current value: min_data_in_leaf=57\n",
      "AUC for the Incremental trial 1 model is 0.7761713389946201\n",
      "[LightGBM] [Warning] min_data_in_leaf is set=57, min_child_samples=20 will be ignored. Current value: min_data_in_leaf=57\n",
      "AUC for the Incremental trial 2 model is 0.7761210978370637\n",
      "[LightGBM] [Warning] min_data_in_leaf is set=57, min_child_samples=20 will be ignored. Current value: min_data_in_leaf=57\n",
      "AUC for the Incremental trial 3 model is 0.7763360033489631\n",
      "[LightGBM] [Warning] min_data_in_leaf is set=57, min_child_samples=20 will be ignored. Current value: min_data_in_leaf=57\n",
      "AUC for the Incremental trial 4 model is 0.7764769951962247\n",
      "[LightGBM] [Warning] min_data_in_leaf is set=57, min_child_samples=20 will be ignored. Current value: min_data_in_leaf=57\n",
      "AUC for the Incremental trial 5 model is 0.7765132954721068\n",
      "[LightGBM] [Warning] min_data_in_leaf is set=57, min_child_samples=20 will be ignored. Current value: min_data_in_leaf=57\n",
      "AUC for the Incremental trial 6 model is 0.7764951453341656\n",
      "\n",
      "\n",
      "AUC Improvement of : 0.0002917153199303302\n",
      "----------------------------------------------------------------------------------------------------\n",
      "[LightGBM] [Warning] min_data_in_leaf is set=57, min_child_samples=20 will be ignored. Current value: min_data_in_leaf=57\n",
      "AUC Score Fold-8, Base model : 0.7736852167986612\n",
      "[LightGBM] [Warning] min_data_in_leaf is set=57, min_child_samples=20 will be ignored. Current value: min_data_in_leaf=57\n",
      "AUC for the Incremental trial 1 model is 0.7737033340535348\n",
      "[LightGBM] [Warning] min_data_in_leaf is set=57, min_child_samples=20 will be ignored. Current value: min_data_in_leaf=57\n",
      "AUC for the Incremental trial 2 model is 0.7742121394638836\n",
      "[LightGBM] [Warning] min_data_in_leaf is set=57, min_child_samples=20 will be ignored. Current value: min_data_in_leaf=57\n",
      "AUC for the Incremental trial 3 model is 0.7742121394638836\n",
      "[LightGBM] [Warning] min_data_in_leaf is set=57, min_child_samples=20 will be ignored. Current value: min_data_in_leaf=57\n",
      "AUC for the Incremental trial 4 model is 0.7741655015294535\n",
      "[LightGBM] [Warning] min_data_in_leaf is set=57, min_child_samples=20 will be ignored. Current value: min_data_in_leaf=57\n",
      "AUC for the Incremental trial 5 model is 0.7741655015294535\n",
      "[LightGBM] [Warning] min_data_in_leaf is set=57, min_child_samples=20 will be ignored. Current value: min_data_in_leaf=57\n",
      "AUC for the Incremental trial 6 model is 0.7741836187843271\n",
      "\n",
      "\n",
      "AUC Improvement of : 0.0004984019856658639\n",
      "----------------------------------------------------------------------------------------------------\n"
     ]
    },
    {
     "data": {
      "text/plain": [
       "0.7770858088192767"
      ]
     },
     "execution_count": 13,
     "metadata": {},
     "output_type": "execute_result"
    }
   ],
   "source": [
    "#X = X.abs()\n",
    "y = train[\"target\"]\n",
    "kf = KFold(n_splits=8, shuffle=True, random_state=1)\n",
    "oof_2 = np.zeros(len(train))\n",
    "score_list = []\n",
    "fold = 1\n",
    "test_preds_2 = []\n",
    "\n",
    "# view accuracy\n",
    "from sklearn.metrics import accuracy_score\n",
    "\n",
    "preds_list_base = []\n",
    "preds_list_final_iteration = []\n",
    "preds_list_all = []\n",
    "\n",
    "\n",
    "for train_index, test_index in kf.split(train):\n",
    "    X_train, X_val = train.iloc[train_index], train.iloc[test_index]\n",
    "    y_train, y_val = y.iloc[train_index], y.iloc[test_index]\n",
    "\n",
    "    \n",
    "    dtrain = X_train[all_features]\n",
    "    dvalid = X_val[all_features]\n",
    "    \n",
    "    Model = LGBMClassifier(**lgbm_params) \n",
    "\n",
    "    evaluation = [(dvalid, y_val)]\n",
    "\n",
    "    Model.fit(dtrain, y_train,\n",
    "              eval_set=evaluation, eval_metric='auc', categorical_feature=cat_cols,\n",
    "              early_stopping_rounds=100, verbose=False)\n",
    "\n",
    "    val_preds = Model.predict(dvalid)\n",
    "    \n",
    "    fpr, tpr, thresholds = roc_curve(y_val, val_preds, pos_label = 1)\n",
    "    auc_score = auc(fpr, tpr)\n",
    "\n",
    "\n",
    "    print(f\"AUC Score Fold-{fold}, Base model : {auc_score}\")\n",
    "    \n",
    "    first_auc = auc_score\n",
    "    last_auc = auc_score\n",
    "\n",
    "    oof_2[test_index] = val_preds\n",
    "\n",
    "    \n",
    "    score_list.append(auc_score)\n",
    "    test_preds_2.append(Model.predict_proba(test[all_features])[:, 1])\n",
    "    \n",
    "    preds_list_base.append(Model.predict_proba(test[all_features])[:, 1])\n",
    "    preds_list_all.append(Model.predict_proba(test[all_features])[:, 1])\n",
    "    \n",
    "\n",
    "    params = lgbm_params.copy()\n",
    "    \n",
    "    for i in range(1, 7):\n",
    "        if i >2:    \n",
    "                    \n",
    "            # reducing regularizing params if \n",
    "                    \n",
    "            params['reg_lambda'] *= 0.9\n",
    "            params['reg_alpha'] *= 0.9\n",
    "            params['num_leaves'] += 40\n",
    "                    \n",
    "        params['learning_rate'] = 0.003\n",
    "        Model = LGBMClassifier(**params).fit(dtrain, y_train, \n",
    "                        eval_set=evaluation, \n",
    "                        eval_metric='auc', \n",
    "                        categorical_feature=cat_cols,\n",
    "                        early_stopping_rounds=200,\n",
    "                        verbose=0,\n",
    "                        init_model=Model)\n",
    "                \n",
    "        preds_list_all.append(Model.predict_proba(test[all_features])[:, 1])\n",
    "        \n",
    "        val_preds = Model.predict(dvalid)\n",
    "        fpr, tpr, thresholds = roc_curve(y_val, val_preds, pos_label = 1)\n",
    "        auc_score = auc(fpr, tpr)\n",
    "        print(f'AUC for the Incremental trial {i} model is {auc_score}')\n",
    "        last_auc = auc_score\n",
    "    \n",
    "    print('',end='\\n\\n')\n",
    "    print(f'AUC Improvement of : {last_auc - first_auc }')\n",
    "    print('-' * 100)\n",
    "    preds_list_final_iteration.append(Model.predict_proba(test[all_features])[:, 1])\n",
    "    \n",
    "    \n",
    "    fold+=1\n",
    "    \n",
    "\n",
    "np.mean(score_list)"
   ]
  },
  {
   "cell_type": "code",
   "execution_count": 14,
   "metadata": {},
   "outputs": [
    {
     "name": "stdout",
     "output_type": "stream",
     "text": [
      "0.7770858088192767\n"
     ]
    },
    {
     "data": {
      "text/plain": [
       "[0.7828715624509706,\n",
       " 0.7743445139148938,\n",
       " 0.7810177960525836,\n",
       " 0.7752556379362593,\n",
       " 0.7747634793945885,\n",
       " 0.7785448339920217,\n",
       " 0.7762034300142353,\n",
       " 0.7736852167986612]"
      ]
     },
     "execution_count": 14,
     "metadata": {},
     "output_type": "execute_result"
    }
   ],
   "source": [
    "print(np.mean(score_list))\n",
    "score_list"
   ]
  },
  {
   "cell_type": "code",
   "execution_count": 15,
   "metadata": {},
   "outputs": [
    {
     "name": "stdout",
     "output_type": "stream",
     "text": [
      "AUC Score Final : 0.777074298578011\n"
     ]
    }
   ],
   "source": [
    "train[\"2_preds\"] = oof_2\n",
    "test[\"2_preds\"] = np.mean(test_preds_2,axis=0)\n",
    "\n",
    "fpr, tpr, thresholds = roc_curve(train[\"target\"], train[\"2_preds\"], pos_label = 1)\n",
    "auc_score = auc(fpr, tpr)\n",
    "    \n",
    "print(f\"AUC Score Final : {auc_score}\")"
   ]
  },
  {
   "cell_type": "code",
   "execution_count": 16,
   "metadata": {},
   "outputs": [],
   "source": [
    "# save prediction\n",
    "subm_df = test[[\"2_preds\"]]\n",
    "subm_df['id'] = test_id\n",
    "subm_df = subm_df.rename(columns={\"2_preds\": \"target\"})\n",
    "subm_df.to_csv(\"hyperopt_single_lgb_model_extreme.csv\",index=False)"
   ]
  },
  {
   "cell_type": "code",
   "execution_count": 17,
   "metadata": {
    "papermill": {
     "duration": 0.028568,
     "end_time": "2021-02-19T04:27:13.410908",
     "exception": false,
     "start_time": "2021-02-19T04:27:13.382340",
     "status": "completed"
    },
    "tags": []
   },
   "outputs": [
    {
     "name": "stdout",
     "output_type": "stream",
     "text": [
      "We are done. That is all, folks!\n",
      "Finished at  2021-03-09 21:38:53.830868\n",
      "Elapsed time:  0:46:10.784868\n"
     ]
    }
   ],
   "source": [
    "print('We are done. That is all, folks!')\n",
    "finish_time = dt.datetime.now()\n",
    "print(\"Finished at \", finish_time)\n",
    "elapsed = finish_time - start_time\n",
    "print(\"Elapsed time: \", elapsed)"
   ]
  },
  {
   "cell_type": "markdown",
   "metadata": {},
   "source": [
    "# Historical Record Tracking\n",
    "\n",
    "## Single lgbm without non-important cat features and extreme training\n",
    "\n",
    "- AUC Score Final (locally) : 0.7770858088192767 - improved from the basic model of 0.777074298578011\n",
    "- public lb 0.88821 (no change)\n",
    "\n",
    "cat cols dropped: ['cat5', 'cat7', 'cat8', 'cat10']\n",
    "\n",
    "(jump from top 66% to top 47% in public lb as of Mar 6, 2021)\n",
    "\n",
    "```\n",
    "lgbm_params = {\n",
    "    'boosting_type': 'gbdt',\n",
    "    'objective': 'binary',\n",
    "    'metric': 'auc',\n",
    "    'random_state': SEED,\n",
    "    'n_estimators': N_ESTIMATORS,\n",
    "    'n_jobs': -1,\n",
    "    'cat_feature': [x for x in range(len(cat_cols))],\n",
    "    'bagging_seed': SEED,\n",
    "    'feature_fraction_seed': SEED,\n",
    "    \n",
    "    \n",
    "    'colsample_bytree': 0.7671990402625448,\n",
    "     'learning_rate': 0.019767284,\n",
    "     'max_depth': 15,\n",
    "     'min_child_weight': 0.0002777396522195953,\n",
    "     'min_data_in_leaf': 57,\n",
    "     'min_split_gain': 0.21136452616481655,\n",
    "     'num_leaves': 175,\n",
    "     'reg_alpha': 0.11063887315135824,\n",
    "     'reg_lambda': 18.001114258982668,\n",
    "     'subsample': 0.9818248529067929,\n",
    "     'subsample_for_bin': 180000\n",
    "}\n",
    "\n",
    "\n",
    "```\n"
   ]
  }
 ],
 "metadata": {
  "kernelspec": {
   "display_name": "Python 3",
   "language": "python",
   "name": "python3"
  },
  "language_info": {
   "codemirror_mode": {
    "name": "ipython",
    "version": 3
   },
   "file_extension": ".py",
   "mimetype": "text/x-python",
   "name": "python",
   "nbconvert_exporter": "python",
   "pygments_lexer": "ipython3",
   "version": "3.7.0"
  },
  "papermill": {
   "default_parameters": {},
   "duration": 5375.500553,
   "end_time": "2021-02-19T04:27:15.130226",
   "environment_variables": {},
   "exception": null,
   "input_path": "__notebook__.ipynb",
   "output_path": "__notebook__.ipynb",
   "parameters": {},
   "start_time": "2021-02-19T02:57:39.629673",
   "version": "2.2.2"
  }
 },
 "nbformat": 4,
 "nbformat_minor": 4
}
