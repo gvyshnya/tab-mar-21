{
 "cells": [
  {
   "cell_type": "markdown",
   "metadata": {
    "papermill": {
     "duration": 0.012352,
     "end_time": "2021-02-19T02:57:45.814025",
     "exception": false,
     "start_time": "2021-02-19T02:57:45.801673",
     "status": "completed"
    },
    "tags": []
   },
   "source": [
    "# LGBM+XGB+CATBOOST Ensemble with HyperOpt Tuning"
   ]
  },
  {
   "cell_type": "code",
   "execution_count": 11,
   "metadata": {
    "execution": {
     "iopub.execute_input": "2021-02-19T02:57:45.841283Z",
     "iopub.status.busy": "2021-02-19T02:57:45.840312Z",
     "iopub.status.idle": "2021-02-19T02:57:47.963517Z",
     "shell.execute_reply": "2021-02-19T02:57:47.964045Z"
    },
    "papermill": {
     "duration": 2.138608,
     "end_time": "2021-02-19T02:57:47.964373",
     "exception": false,
     "start_time": "2021-02-19T02:57:45.825765",
     "status": "completed"
    },
    "tags": []
   },
   "outputs": [],
   "source": [
    "import pandas as pd\n",
    "import numpy as np\n",
    "\n",
    "import time\n",
    "import datetime as dt\n",
    "from typing import Tuple, List, Dict\n",
    "\n",
    "from sklearn.metrics import auc, roc_curve\n",
    "\n",
    "\n",
    "from sklearn.model_selection import train_test_split, KFold, GridSearchCV, cross_validate\n",
    "from sklearn.preprocessing import StandardScaler, LabelEncoder\n",
    "\n",
    "\n",
    "from lightgbm import LGBMClassifier\n",
    "from xgboost import XGBClassifier\n",
    "from catboost import CatBoostClassifier\n",
    "\n",
    "from hyperopt import STATUS_OK, Trials, fmin, hp, tpe\n",
    "from hyperopt.pyll.base import scope\n",
    "\n",
    "from functools import partial\n",
    "\n",
    "import warnings\n",
    "warnings.filterwarnings('ignore')"
   ]
  },
  {
   "cell_type": "code",
   "execution_count": 12,
   "metadata": {},
   "outputs": [
    {
     "name": "stdout",
     "output_type": "stream",
     "text": [
      "Started at  2021-03-23 17:40:21.465012\n"
     ]
    }
   ],
   "source": [
    "# main flow\n",
    "start_time = dt.datetime.now()\n",
    "print(\"Started at \", start_time)"
   ]
  },
  {
   "cell_type": "code",
   "execution_count": 13,
   "metadata": {},
   "outputs": [],
   "source": [
    "# read data\n",
    "in_kaggle = False\n",
    "\n",
    "\n",
    "def get_data_file_path(is_in_kaggle: bool) -> Tuple[str, str, str]:\n",
    "    train_path = ''\n",
    "    test_path = ''\n",
    "    sample_submission_path = ''\n",
    "\n",
    "    if is_in_kaggle:\n",
    "        # running in Kaggle, inside the competition\n",
    "        train_path = '../input/tabular-playground-series-mar-2021/train.csv'\n",
    "        test_path = '../input/tabular-playground-series-mar-2021/test.csv'\n",
    "        sample_submission_path = '../input/tabular-playground-series-mar-2021/sample_submission.csv'\n",
    "    else:\n",
    "        # running locally\n",
    "        train_path = 'data/train.csv'\n",
    "        test_path = 'data/test.csv'\n",
    "        sample_submission_path = 'data/sample_submission.csv'\n",
    "\n",
    "    return train_path, test_path, sample_submission_path\n"
   ]
  },
  {
   "cell_type": "code",
   "execution_count": 14,
   "metadata": {
    "execution": {
     "iopub.execute_input": "2021-02-19T02:57:47.992994Z",
     "iopub.status.busy": "2021-02-19T02:57:47.992059Z",
     "iopub.status.idle": "2021-02-19T02:57:52.182932Z",
     "shell.execute_reply": "2021-02-19T02:57:52.182337Z"
    },
    "papermill": {
     "duration": 4.206009,
     "end_time": "2021-02-19T02:57:52.183073",
     "exception": false,
     "start_time": "2021-02-19T02:57:47.977064",
     "status": "completed"
    },
    "tags": []
   },
   "outputs": [
    {
     "name": "stdout",
     "output_type": "stream",
     "text": [
      "Wall time: 5.34 s\n"
     ]
    }
   ],
   "source": [
    "%%time\n",
    "# get the training set and labels\n",
    "train_set_path, test_set_path, sample_subm_path = get_data_file_path(in_kaggle)\n",
    "\n",
    "train = pd.read_csv(train_set_path)\n",
    "test = pd.read_csv(test_set_path)\n",
    "target = train.target\n",
    "\n",
    "test_id = test.id\n",
    "\n",
    "subm = pd.read_csv(sample_subm_path)"
   ]
  },
  {
   "cell_type": "code",
   "execution_count": 15,
   "metadata": {},
   "outputs": [
    {
     "name": "stdout",
     "output_type": "stream",
     "text": [
      "<class 'pandas.core.frame.DataFrame'>\n",
      "RangeIndex: 300000 entries, 0 to 299999\n",
      "Data columns (total 32 columns):\n",
      " #   Column  Non-Null Count   Dtype  \n",
      "---  ------  --------------   -----  \n",
      " 0   id      300000 non-null  int64  \n",
      " 1   cat0    300000 non-null  object \n",
      " 2   cat1    300000 non-null  object \n",
      " 3   cat2    300000 non-null  object \n",
      " 4   cat3    300000 non-null  object \n",
      " 5   cat4    300000 non-null  object \n",
      " 6   cat5    300000 non-null  object \n",
      " 7   cat6    300000 non-null  object \n",
      " 8   cat7    300000 non-null  object \n",
      " 9   cat8    300000 non-null  object \n",
      " 10  cat9    300000 non-null  object \n",
      " 11  cat10   300000 non-null  object \n",
      " 12  cat11   300000 non-null  object \n",
      " 13  cat12   300000 non-null  object \n",
      " 14  cat13   300000 non-null  object \n",
      " 15  cat14   300000 non-null  object \n",
      " 16  cat15   300000 non-null  object \n",
      " 17  cat16   300000 non-null  object \n",
      " 18  cat17   300000 non-null  object \n",
      " 19  cat18   300000 non-null  object \n",
      " 20  cont0   300000 non-null  float64\n",
      " 21  cont1   300000 non-null  float64\n",
      " 22  cont2   300000 non-null  float64\n",
      " 23  cont3   300000 non-null  float64\n",
      " 24  cont4   300000 non-null  float64\n",
      " 25  cont5   300000 non-null  float64\n",
      " 26  cont6   300000 non-null  float64\n",
      " 27  cont7   300000 non-null  float64\n",
      " 28  cont8   300000 non-null  float64\n",
      " 29  cont9   300000 non-null  float64\n",
      " 30  cont10  300000 non-null  float64\n",
      " 31  target  300000 non-null  int64  \n",
      "dtypes: float64(11), int64(2), object(19)\n",
      "memory usage: 73.2+ MB\n"
     ]
    }
   ],
   "source": [
    "train.info()"
   ]
  },
  {
   "cell_type": "code",
   "execution_count": 16,
   "metadata": {
    "execution": {
     "iopub.execute_input": "2021-02-19T02:57:52.319803Z",
     "iopub.status.busy": "2021-02-19T02:57:52.319147Z",
     "iopub.status.idle": "2021-02-19T02:57:52.324742Z",
     "shell.execute_reply": "2021-02-19T02:57:52.324193Z"
    },
    "papermill": {
     "duration": 0.020649,
     "end_time": "2021-02-19T02:57:52.324883",
     "exception": false,
     "start_time": "2021-02-19T02:57:52.304234",
     "status": "completed"
    },
    "tags": []
   },
   "outputs": [],
   "source": [
    "cols_to_drop = ['id', 'cat5', 'cat7', 'cat8', 'cat10']\n",
    "\n",
    "cat_cols = [feature for feature in train.columns if 'cat' in feature and feature not in cols_to_drop ]\n",
    "cont_cols = [feature for feature in train.columns if 'cont' in feature and feature not in cols_to_drop]\n",
    "\n",
    "all_features = cat_cols + cont_cols\n",
    "\n",
    "def preprocess(df, encoder=None,\n",
    "               scaler=None, cols_to_drop=None,\n",
    "               cols_to_encode=None, cols_to_scale=None):\n",
    "    \"\"\"\n",
    "    Preprocess input data\n",
    "    :param df: DataFrame with data\n",
    "    :param encoder: encoder object with fit_transform method\n",
    "    :param scaler: scaler object with fit_transform method\n",
    "    :param cols_to_drop: columns to be removed\n",
    "    :param cols_to_encode: columns to be encoded\n",
    "    :param cols_to_scale: columns to be scaled\n",
    "    :return: DataFrame\n",
    "    \"\"\"\n",
    "\n",
    "    if encoder:\n",
    "        for col in cols_to_encode:\n",
    "            df[col] = encoder.fit_transform(df[col])\n",
    "\n",
    "    if scaler:\n",
    "        for col in cols_to_scale:\n",
    "            df[col] = scaler.fit_transform(df[col].values.reshape(-1, 1))\n",
    "\n",
    "    if cols_to_drop:\n",
    "        df = df.drop(cols_to_drop, axis=1)\n",
    "\n",
    "    return df"
   ]
  },
  {
   "cell_type": "code",
   "execution_count": 17,
   "metadata": {
    "execution": {
     "iopub.execute_input": "2021-02-19T02:57:52.449340Z",
     "iopub.status.busy": "2021-02-19T02:57:52.375160Z",
     "iopub.status.idle": "2021-02-19T02:57:54.155477Z",
     "shell.execute_reply": "2021-02-19T02:57:54.154847Z"
    },
    "papermill": {
     "duration": 1.818185,
     "end_time": "2021-02-19T02:57:54.155645",
     "exception": false,
     "start_time": "2021-02-19T02:57:52.337460",
     "status": "completed"
    },
    "tags": []
   },
   "outputs": [],
   "source": [
    "train = preprocess(train, encoder=LabelEncoder(), scaler=StandardScaler(),\n",
    "                  cols_to_drop=cols_to_drop, cols_to_encode=cat_cols,\n",
    "                  cols_to_scale=cont_cols)\n",
    "\n",
    "# encoder=LabelEncoder()\n",
    "test = preprocess(test, encoder=LabelEncoder(), scaler=StandardScaler(),\n",
    "                 cols_to_drop=cols_to_drop, cols_to_encode=cat_cols,\n",
    "                 cols_to_scale=cont_cols)"
   ]
  },
  {
   "cell_type": "code",
   "execution_count": 18,
   "metadata": {},
   "outputs": [],
   "source": [
    "class EnsembleModel:\n",
    "    def __init__(self, params):\n",
    "        \"\"\"\n",
    "        LGB + XGB + CatBoost model\n",
    "        \"\"\"\n",
    "        self.lgb_params = params['lgb']\n",
    "        self.xgb_params = params['xgb']\n",
    "        self.cat_params = params['cat']\n",
    "\n",
    "        self.lgb_model = LGBMClassifier(**self.lgb_params)\n",
    "        self.xgb_model = XGBClassifier(**self.xgb_params)\n",
    "        self.cat_model = CatBoostClassifier(**self.cat_params)\n",
    "\n",
    "    def fit(self, x, y, *args, **kwargs):\n",
    "        return (self.lgb_model.fit(x, y, *args, **kwargs),\n",
    "                self.xgb_model.fit(x, y, *args, **kwargs),\n",
    "               self.cat_model.fit(x, y, *args, **kwargs))\n",
    "\n",
    "    def predict(self, x, weights=[1.0, 1.0, 1.0]):\n",
    "        \"\"\"\n",
    "        Generate model predictions\n",
    "        :param x: data\n",
    "        :param weights: weights on model prediction, first one is the weight on lgb model\n",
    "        :return: array with predictions\n",
    "        \"\"\"\n",
    "        return np.rint((weights[0] * self.lgb_model.predict(x) +\n",
    "                weights[1] * self.xgb_model.predict(x) +\n",
    "                weights[2] * self.cat_model.predict(x)) / 3)\n",
    "    \n",
    "    def predict_proba(self, x, weights=[1.0, 1.0, 1.0]):\n",
    "        \"\"\"\n",
    "        Generate model class label probability predictions\n",
    "        :param x: data\n",
    "        :param weights: weights on model prediction, first one is the weight on lgb model\n",
    "        :return: array with predictions\n",
    "        \"\"\"\n",
    "        return np.rint((weights[0] * self.lgb_model.predict_proba(x) +\n",
    "                weights[1] * self.xgb_model.predict_proba(x) +\n",
    "                weights[2] * self.cat_model.predict_proba(x)) / 3)"
   ]
  },
  {
   "cell_type": "code",
   "execution_count": 19,
   "metadata": {},
   "outputs": [],
   "source": [
    "#integer and string parameters, used with hp.choice()\n",
    "bootstrap_type = [{'bootstrap_type':'Poisson'}, \n",
    "                           {'bootstrap_type':'Bayesian',\n",
    "                            'bagging_temperature' : hp.loguniform('bagging_temperature', np.log(1), np.log(50))},\n",
    "                          {'bootstrap_type':'Bernoulli'}] \n",
    "LEB = ['No', 'AnyImprovement'] #remove 'Armijo' if not using GPU\n",
    "grow_policy = [\n",
    "    {'grow_policy':'SymmetricTree'},\n",
    "    # {'grow_policy':'Depthwise'},\n",
    "    {'grow_policy':'Lossguide',\n",
    "        'max_leaves': hp.quniform('max_leaves', 2, 32, 1)}]\n",
    "\n",
    "ensemble_params = {\n",
    "    \"lgb\" : {\n",
    "        \"num_leaves\": scope.int(hp.quniform(\"num_leaves\", 31, 200, 1)),\n",
    "        \"max_depth\": scope.int(hp.quniform(\"max_depth\", 10, 24, 1)),\n",
    "        'learning_rate': hp.uniform('learning_rate', 0.01, 0.3),\n",
    "        'min_split_gain': hp.uniform('min_split_gain', 0, 1.0),\n",
    "        'min_child_samples': scope.int(hp.quniform(\"min_child_samples\", 2, 700, 1)),\n",
    "        \"subsample\": hp.uniform(\"subsample\", 0.2, 1.0),\n",
    "        \"colsample_bytree\": hp.uniform(\"colsample_bytree\", 0.5, 1.0),\n",
    "        'reg_alpha': hp.uniform('reg_alpha', 1e-5, 1.0),\n",
    "        'reg_lambda': hp.uniform('reg_lambda', 0, 50),\n",
    "        'metric': 'auc',\n",
    "        'n_jobs': -1,\n",
    "        'n_estimators': 2000},\n",
    "    'xgb': {\n",
    "        'max_depth': scope.int(hp.quniform('xgb.max_depth', 10, 24, 1)),\n",
    "        'learning_rate': hp.uniform('xgb.learning_rate', 0.01, 0.3),\n",
    "        'gamma': hp.uniform('xgb.gamma', 1, 10),\n",
    "        'min_child_weight': scope.int(hp.quniform('xgb.min_child_weight', 2, 700, 1)),\n",
    "        'n_estimators': 2000,\n",
    "        'colsample_bytree': hp.uniform('xgb.colsample_bytree', 0.5, 0.9),\n",
    "        'subsample': hp.uniform('xgb.subsample', 0.5, 1.0),\n",
    "        'reg_lambda': hp.uniform('xgb.reg_lambda', 0, 100),\n",
    "        'reg_alpha': hp.uniform('xgb.reg_alpha', 1e-5, 0.5),\n",
    "        'objective': 'binary:logistic',\n",
    "        'tree_method': 'hist',\n",
    "        'eval_metric': 'auc',\n",
    "        'n_jobs': -1},\n",
    "    'cat': {\n",
    "        'depth': hp.quniform(\"cat.depth\", 2, 16, 1),\n",
    "        'learning_rate': hp.uniform('cat.learning_rate', 0.01, 0.3),\n",
    "        'l2_leaf_reg': hp.uniform('cat.l2_leaf_reg', 3, 8),\n",
    "        'max_bin' : hp.quniform('cat.max_bin', 1, 254, 1),\n",
    "        'min_data_in_leaf' : hp.quniform('cat.min_data_in_leaf', 2, 700, 1),\n",
    "        'random_strength' : hp.loguniform('cat.random_strength', np.log(0.005), np.log(5)),\n",
    "        'leaf_estimation_backtracking' : hp.choice('cat.leaf_estimation_backtracking', LEB),\n",
    "        # 'grow_policy': hp.choice('cat.grow_policy', grow_policy),\n",
    "        'fold_len_multiplier' : hp.loguniform('cat.fold_len_multiplier', np.log(1.01), np.log(2.5)),\n",
    "        'eval_metric': 'AUC',\n",
    "        'n_estimators': 2000\n",
    "        #'od_type' : 'Iter',\n",
    "        #'od_wait' : 25,\n",
    "       }\n",
    "}\n",
    "\n",
    "def ensemble_search(params):\n",
    "    X_train, X_test, y_train, y_test = train_test_split(X, y, test_size=0.2, random_state=22)\n",
    "\n",
    "    model = EnsembleModel(params)\n",
    "\n",
    "    evaluation = [(X_test, y_test)]\n",
    "\n",
    "    model.fit(X_train, y_train,\n",
    "              eval_set=evaluation,\n",
    "              early_stopping_rounds=100, verbose=False)\n",
    "\n",
    "    val_preds = model.predict(X_test)\n",
    "    \n",
    "    fpr, tpr, thresholds = roc_curve(y_test, val_preds, pos_label = 1)\n",
    "    auc_score = auc(fpr, tpr)\n",
    "\n",
    "    neg_auc_score = -1 * auc_score\n",
    "\n",
    "    return {\"loss\": neg_auc_score, \"status\": STATUS_OK}\n"
   ]
  },
  {
   "cell_type": "code",
   "execution_count": 20,
   "metadata": {},
   "outputs": [
    {
     "name": "stdout",
     "output_type": "stream",
     "text": [
      "100%|██████████████████████████████████████████| 100/100 [6:20:42<00:00, 228.43s/trial, best loss: -0.7757663279612521]\n"
     ]
    }
   ],
   "source": [
    "# search for model\n",
    "\n",
    "X = train[all_features]\n",
    "y = target\n",
    "\n",
    "trials = Trials()\n",
    "\n",
    "best_hyperparams = fmin(fn=ensemble_search,\n",
    "                       space=ensemble_params,\n",
    "                       algo=tpe.suggest,\n",
    "                       max_evals=100,\n",
    "                       trials=trials)"
   ]
  },
  {
   "cell_type": "code",
   "execution_count": 21,
   "metadata": {},
   "outputs": [
    {
     "data": {
      "text/plain": [
       "{'cat.depth': 10.0,\n",
       " 'cat.fold_len_multiplier': 1.7422457760587946,\n",
       " 'cat.l2_leaf_reg': 3.2623366275911745,\n",
       " 'cat.leaf_estimation_backtracking': 1,\n",
       " 'cat.learning_rate': 0.15136133382564895,\n",
       " 'cat.max_bin': 202.0,\n",
       " 'cat.min_data_in_leaf': 574.0,\n",
       " 'cat.random_strength': 0.20562758847364615,\n",
       " 'colsample_bytree': 0.6425537568096009,\n",
       " 'learning_rate': 0.10962315502263141,\n",
       " 'max_depth': 14.0,\n",
       " 'min_child_samples': 323.0,\n",
       " 'min_split_gain': 0.2933380974365634,\n",
       " 'num_leaves': 148.0,\n",
       " 'reg_alpha': 0.5170282083590011,\n",
       " 'reg_lambda': 43.80139979272411,\n",
       " 'subsample': 0.6572327355494463,\n",
       " 'xgb.colsample_bytree': 0.790674241521834,\n",
       " 'xgb.gamma': 6.06972832524672,\n",
       " 'xgb.learning_rate': 0.15292477100346652,\n",
       " 'xgb.max_depth': 16.0,\n",
       " 'xgb.min_child_weight': 16.0,\n",
       " 'xgb.reg_alpha': 0.3670013738813803,\n",
       " 'xgb.reg_lambda': 24.921997449057116,\n",
       " 'xgb.subsample': 0.8845306281663261}"
      ]
     },
     "execution_count": 21,
     "metadata": {},
     "output_type": "execute_result"
    }
   ],
   "source": [
    "best_hyperparams"
   ]
  },
  {
   "cell_type": "code",
   "execution_count": 22,
   "metadata": {},
   "outputs": [],
   "source": [
    "# ------------------------------------------------------------------------------\n",
    "# Parameters\n",
    "# ------------------------------------------------------------------------------\n",
    "N_FOLDS = 10\n",
    "N_ESTIMATORS = 30000\n",
    "SEED = 2021\n",
    "BAGGING_SEED = 48\n",
    "\n",
    "since = time.time()\n",
    "columns = train.columns\n",
    "\n",
    "ensemble_params = {\n",
    "    \"lgb\" : {\n",
    "        'colsample_bytree': 0.6425537568096009,\n",
    "        'learning_rate': 0.00730821, # 0.10962315502263141,\n",
    "        'max_depth': 14,\n",
    "        'min_child_samples': 323,\n",
    "        'min_split_gain': 0.2933380974365634,\n",
    "        'num_leaves': 148,\n",
    "        'reg_alpha': 0.5170282083590011,\n",
    "        'reg_lambda': 43.80139979272411,\n",
    "        'subsample': 0.6572327355494463,\n",
    "        'boosting_type': 'gbdt',\n",
    "        'objective': 'binary',\n",
    "        'metric': 'auc',\n",
    "        'feature_fraction_seed': SEED,\n",
    "        'bagging_seed': SEED,\n",
    "        'random_state': SEED,\n",
    "        'n_jobs': -1,\n",
    "        'n_estimators': 30000\n",
    "    },\n",
    "    'xgb': {\n",
    "        \n",
    "        'colsample_bytree': 0.790674241521834,\n",
    "        'gamma': 6.06972832524672,\n",
    "        'learning_rate': 0.035823, # 0.15292477100346652,\n",
    "        'max_depth': 16,\n",
    "        'min_child_weight': 16,\n",
    "        'reg_alpha': 0.3670013738813803,\n",
    "        'reg_lambda': 24.921997449057116,\n",
    "        'subsample': 0.8845306281663261,\n",
    "        'n_estimators': 10000,\n",
    "        'objective': 'binary:logistic',\n",
    "        'tree_method': 'hist',\n",
    "        'random_state': SEED,\n",
    "        'eval_metric': 'auc',\n",
    "        'n_jobs': -1\n",
    "    },\n",
    "    'cat': {\n",
    "        'depth': 10,\n",
    "        'fold_len_multiplier': 1.7422457760587946,\n",
    "        'l2_leaf_reg': 3.2623366275911745,\n",
    "        'leaf_estimation_backtracking': 'AnyImprovement',\n",
    "        'learning_rate': 0.03026133382564895, # 0.15136133382564895,\n",
    "        'max_bin': 202,\n",
    "        'min_data_in_leaf': 574,\n",
    "        'random_strength': 0.20562758847364615,\n",
    "        'n_estimators': 10000,\n",
    "        'random_state': SEED,\n",
    "        'eval_metric': 'AUC',\n",
    "    }\n",
    "}"
   ]
  },
  {
   "cell_type": "code",
   "execution_count": 23,
   "metadata": {},
   "outputs": [
    {
     "name": "stdout",
     "output_type": "stream",
     "text": [
      "AUC Score Fold-1 : 0.7847205155691993\n",
      "AUC Score Fold-2 : 0.771619761247742\n",
      "AUC Score Fold-3 : 0.7801924563573394\n",
      "AUC Score Fold-4 : 0.7769481988759315\n",
      "AUC Score Fold-5 : 0.7741553655564881\n",
      "AUC Score Fold-6 : 0.7772232912253242\n",
      "AUC Score Fold-7 : 0.7748356366803452\n",
      "AUC Score Fold-8 : 0.7792835047603486\n",
      "AUC Score Fold-9 : 0.7728020250495855\n",
      "AUC Score Fold-10 : 0.7734896519543258\n"
     ]
    },
    {
     "data": {
      "text/plain": [
       "0.776527040727663"
      ]
     },
     "execution_count": 23,
     "metadata": {},
     "output_type": "execute_result"
    }
   ],
   "source": [
    "#X = X.abs()\n",
    "X = train[all_features]\n",
    "y = target\n",
    "\n",
    "kf = KFold(n_splits=N_FOLDS, shuffle=True, random_state=1)\n",
    "oof_2 = np.zeros(len(train))\n",
    "score_list = []\n",
    "fold = 1\n",
    "test_preds_2 = []\n",
    "\n",
    "# view accuracy\n",
    "from sklearn.metrics import accuracy_score\n",
    "\n",
    "\n",
    "for train_index, test_index in kf.split(train):\n",
    "    X_train, X_val = X.iloc[train_index], X.iloc[test_index]\n",
    "    y_train, y_val = y.iloc[train_index], y.iloc[test_index]\n",
    "\n",
    "    \n",
    "    dtrain = X_train[all_features]\n",
    "    dvalid = X_val[all_features]\n",
    "\n",
    "\n",
    "    evaluation = [(dvalid, y_val)]\n",
    "\n",
    "    model = EnsembleModel(ensemble_params)\n",
    "    model.fit(dtrain, y_train,\n",
    "              eval_set=evaluation,\n",
    "              early_stopping_rounds=100, verbose=False)\n",
    "\n",
    "    val_preds = model.predict(dvalid)\n",
    "    \n",
    "    fpr, tpr, thresholds = roc_curve(y_val, val_preds, pos_label = 1)\n",
    "    auc_score = auc(fpr, tpr)\n",
    "\n",
    "\n",
    "    print(f\"AUC Score Fold-{fold} : {auc_score}\")\n",
    "\n",
    "    oof_2[test_index] = val_preds\n",
    "\n",
    "    \n",
    "    score_list.append(auc_score)\n",
    "    test_preds_2.append(model.predict_proba(test[all_features])[:, 1])\n",
    "    fold+=1\n",
    "    \n",
    "\n",
    "np.mean(score_list)"
   ]
  },
  {
   "cell_type": "code",
   "execution_count": 24,
   "metadata": {},
   "outputs": [
    {
     "name": "stdout",
     "output_type": "stream",
     "text": [
      "0.776527040727663\n"
     ]
    },
    {
     "data": {
      "text/plain": [
       "[0.7847205155691993,\n",
       " 0.771619761247742,\n",
       " 0.7801924563573394,\n",
       " 0.7769481988759315,\n",
       " 0.7741553655564881,\n",
       " 0.7772232912253242,\n",
       " 0.7748356366803452,\n",
       " 0.7792835047603486,\n",
       " 0.7728020250495855,\n",
       " 0.7734896519543258]"
      ]
     },
     "execution_count": 24,
     "metadata": {},
     "output_type": "execute_result"
    }
   ],
   "source": [
    "print(np.mean(score_list))\n",
    "score_list"
   ]
  },
  {
   "cell_type": "code",
   "execution_count": 25,
   "metadata": {},
   "outputs": [
    {
     "name": "stdout",
     "output_type": "stream",
     "text": [
      "AUC Score Final : 0.7765196532271988\n"
     ]
    }
   ],
   "source": [
    "train[\"2_preds\"] = oof_2\n",
    "test[\"2_preds\"] = np.mean(test_preds_2,axis=0)\n",
    "\n",
    "fpr, tpr, thresholds = roc_curve(train[\"target\"], train[\"2_preds\"], pos_label = 1)\n",
    "auc_score = auc(fpr, tpr)\n",
    "    \n",
    "print(f\"AUC Score Final : {auc_score}\")"
   ]
  },
  {
   "cell_type": "code",
   "execution_count": 26,
   "metadata": {},
   "outputs": [],
   "source": [
    "# save prediction\n",
    "subm_df = test[[\"2_preds\"]]\n",
    "subm_df['id'] = test_id\n",
    "subm_df = subm_df.rename(columns={\"2_preds\": \"target\"})\n",
    "subm_df.to_csv(\"hyperopt_lgb_xgb_cat_ensemble_model.csv\",index=False)"
   ]
  },
  {
   "cell_type": "code",
   "execution_count": 27,
   "metadata": {
    "papermill": {
     "duration": 0.028568,
     "end_time": "2021-02-19T04:27:13.410908",
     "exception": false,
     "start_time": "2021-02-19T04:27:13.382340",
     "status": "completed"
    },
    "tags": []
   },
   "outputs": [
    {
     "name": "stdout",
     "output_type": "stream",
     "text": [
      "We are done. That is all, folks!\n",
      "Finished at  2021-03-24 01:21:16.236500\n",
      "Elapsed time:  7:40:54.771488\n"
     ]
    }
   ],
   "source": [
    "print('We are done. That is all, folks!')\n",
    "finish_time = dt.datetime.now()\n",
    "print(\"Finished at \", finish_time)\n",
    "elapsed = finish_time - start_time\n",
    "print(\"Elapsed time: \", elapsed)"
   ]
  },
  {
   "cell_type": "markdown",
   "metadata": {},
   "source": [
    "# Historical Record Tracking\n",
    "\n",
    "## Baseline, with all features\n",
    "\n",
    "- Final validation AUC locally - 0.7776592687653098\n",
    "- public LB 0.882171\n",
    "\n",
    "```\n",
    "lgbm_params = {\n",
    "    'boosting_type': 'gbdt',\n",
    "    'objective': 'binary',\n",
    "    'metric': 'auc',\n",
    "    'random_state': SEED,\n",
    "    'n_estimators': N_ESTIMATORS,\n",
    "    'n_jobs': -1,\n",
    "    'cat_feature': [x for x in range(len(cat_cols))],\n",
    "    'bagging_seed': SEED,\n",
    "    'feature_fraction_seed': SEED,\n",
    "    \n",
    "    \n",
    "    'colsample_bytree': 0.8785258997000931,\n",
    "    'learning_rate': 0.014051289,\n",
    "    'max_depth': 11,\n",
    "    'min_child_weight': 5.5803474120805336e-06,\n",
    "    'min_data_in_leaf': 85,\n",
    "    'min_split_gain': 0.23035992374930991,\n",
    "    'num_leaves': 248,\n",
    "    'reg_alpha': 0.5030438494317617,\n",
    "    'reg_lambda': 27.412351627541167,\n",
    "    'subsample': 0.5725588226322971,\n",
    "    'subsample_for_bin': 160000\n",
    "}\n",
    "```\n",
    "\n",
    "## Single lgbm without non-important cat features\n",
    "\n",
    "- AUC Score Final (locally) : 0.777074298578011\n",
    "- public lb 0.88821\n",
    "\n",
    "cat cols dropped: ['cat5', 'cat7', 'cat8', 'cat10']\n",
    "\n",
    "(jump from top 66% to top 47% in public lb as of Mar 6, 2021)\n",
    "\n",
    "```\n",
    "lgbm_params = {\n",
    "    'boosting_type': 'gbdt',\n",
    "    'objective': 'binary',\n",
    "    'metric': 'auc',\n",
    "    'random_state': SEED,\n",
    "    'n_estimators': N_ESTIMATORS,\n",
    "    'n_jobs': -1,\n",
    "    'cat_feature': [x for x in range(len(cat_cols))],\n",
    "    'bagging_seed': SEED,\n",
    "    'feature_fraction_seed': SEED,\n",
    "    \n",
    "    \n",
    "    'colsample_bytree': 0.7671990402625448,\n",
    "     'learning_rate': 0.019767284,\n",
    "     'max_depth': 15,\n",
    "     'min_child_weight': 0.0002777396522195953,\n",
    "     'min_data_in_leaf': 57,\n",
    "     'min_split_gain': 0.21136452616481655,\n",
    "     'num_leaves': 175,\n",
    "     'reg_alpha': 0.11063887315135824,\n",
    "     'reg_lambda': 18.001114258982668,\n",
    "     'subsample': 0.9818248529067929,\n",
    "     'subsample_for_bin': 180000\n",
    "}\n",
    "\n",
    "\n",
    "```\n",
    "\n",
    "# Ensemble optimized on AUC min\n",
    "\n",
    "- Final validation AUC locally - 0.7752592332573469\n",
    "- public LB 0.7781...\n",
    "\n",
    "```\n",
    "ensemble_params = {\n",
    "    \"lgb\" : {\n",
    "        'colsample_bytree': 0.7669988155091811,\n",
    "        'learning_rate': 0.018785504391188274,\n",
    "        'max_depth': 15, #16\n",
    "        'min_child_samples': 432,\n",
    "        'min_split_gain': 0.5196682075422662,\n",
    "        'num_leaves': 33,\n",
    "        'reg_alpha': 0.7190968839100209,\n",
    "        'reg_lambda': 45.09680841620885,\n",
    "        'subsample': 0.5200921340590307,\n",
    "        \n",
    "        'boosting_type': 'gbdt',\n",
    "        'objective': 'binary',\n",
    "        'metric': 'auc',\n",
    "        'feature_fraction_seed': SEED,\n",
    "        'bagging_seed': SEED,\n",
    "        'random_state': SEED,\n",
    "        'n_jobs': -1,\n",
    "        'n_estimators': 20000\n",
    "    },\n",
    "    'xgb': {\n",
    "        'colsample_bytree': 0.567401438889052,\n",
    "        'gamma': 5.1311670760999615,\n",
    "        'learning_rate': 0.024102, #0.06821522938543251,\n",
    "        'max_depth': 10,\n",
    "        'min_child_weight': 449,\n",
    "        'reg_alpha': 0.20781010566037308,\n",
    "        'reg_lambda': 97.95123800455754,\n",
    "        'subsample': 0.6839072387257561,\n",
    "        'n_estimators': 6000,\n",
    "        'objective': 'binary:logistic',\n",
    "        #'tree_method': 'gpu_hist',\n",
    "        'random_state': SEED,\n",
    "        'eval_metric': 'auc',\n",
    "        'n_jobs': -1\n",
    "    },\n",
    "    'cat': {\n",
    "        'depth': 16,\n",
    "        'fold_len_multiplier': 1.6898925297449634,\n",
    "        'l2_leaf_reg': 6.764140085134971,\n",
    "        'leaf_estimation_backtracking': 'AnyImprovement',\n",
    "        'learning_rate': 0.05112, #0.24599873470208633,\n",
    "        'max_bin': 50,\n",
    "        'min_data_in_leaf': 362,\n",
    "        'random_strength': 0.006749481608797086,\n",
    "        'n_estimators': 10000,\n",
    "        'random_state': SEED,\n",
    "        'eval_metric': 'AUC',\n",
    "    }\n",
    "}\n",
    "```"
   ]
  }
 ],
 "metadata": {
  "kernelspec": {
   "display_name": "Python 3",
   "language": "python",
   "name": "python3"
  },
  "language_info": {
   "codemirror_mode": {
    "name": "ipython",
    "version": 3
   },
   "file_extension": ".py",
   "mimetype": "text/x-python",
   "name": "python",
   "nbconvert_exporter": "python",
   "pygments_lexer": "ipython3",
   "version": "3.7.0"
  },
  "papermill": {
   "default_parameters": {},
   "duration": 5375.500553,
   "end_time": "2021-02-19T04:27:15.130226",
   "environment_variables": {},
   "exception": null,
   "input_path": "__notebook__.ipynb",
   "output_path": "__notebook__.ipynb",
   "parameters": {},
   "start_time": "2021-02-19T02:57:39.629673",
   "version": "2.2.2"
  }
 },
 "nbformat": 4,
 "nbformat_minor": 4
}
