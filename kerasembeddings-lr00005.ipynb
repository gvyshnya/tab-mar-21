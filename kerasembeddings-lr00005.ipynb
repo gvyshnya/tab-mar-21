{
 "cells": [
  {
   "cell_type": "markdown",
   "metadata": {
    "papermill": {
     "duration": 0.016079,
     "end_time": "2021-03-08T02:11:54.229262",
     "exception": false,
     "start_time": "2021-03-08T02:11:54.213183",
     "status": "completed"
    },
    "tags": []
   },
   "source": [
    "Inspired by https://www.kaggle.com/siavrez/kerasembeddings"
   ]
  },
  {
   "cell_type": "code",
   "execution_count": 1,
   "metadata": {
    "_cell_guid": "b1076dfc-b9ad-4769-8c92-a6c4dae69d19",
    "_uuid": "8f2839f25d086af736a60e9eeb907d3b93b6e0e5",
    "execution": {
     "iopub.execute_input": "2021-03-08T02:11:54.265450Z",
     "iopub.status.busy": "2021-03-08T02:11:54.264639Z",
     "iopub.status.idle": "2021-03-08T02:12:01.643588Z",
     "shell.execute_reply": "2021-03-08T02:12:01.642829Z"
    },
    "papermill": {
     "duration": 7.400381,
     "end_time": "2021-03-08T02:12:01.643817",
     "exception": false,
     "start_time": "2021-03-08T02:11:54.243436",
     "status": "completed"
    },
    "tags": []
   },
   "outputs": [
    {
     "name": "stderr",
     "output_type": "stream",
     "text": [
      "C:\\ProgramData\\Anaconda3\\lib\\site-packages\\numpy\\_distributor_init.py:32: UserWarning: loaded more than 1 DLL from .libs:\n",
      "C:\\ProgramData\\Anaconda3\\lib\\site-packages\\numpy\\.libs\\libopenblas.IPBC74C7KURV7CB2PKT5Z5FNR3SIBV4J.gfortran-win_amd64.dll\n",
      "C:\\ProgramData\\Anaconda3\\lib\\site-packages\\numpy\\.libs\\libopenblas.NOIJJG62EMASZI6NYURL6JBKM4EVBGM7.gfortran-win_amd64.dll\n",
      "  stacklevel=1)\n"
     ]
    }
   ],
   "source": [
    "from tensorflow.keras import layers, optimizers, callbacks, utils, losses, metrics, backend as K\n",
    "from sklearn import metrics as skmetrics, preprocessing\n",
    "from tensorflow.keras.models import Model, load_model\n",
    "from sklearn.model_selection import StratifiedKFold\n",
    "from scipy.stats import rankdata\n",
    "import os, gc, joblib, warnings\n",
    "import tensorflow_addons as tfa\n",
    "import tensorflow as tf\n",
    "import pandas as pd\n",
    "import numpy as np\n",
    "\n",
    "import datetime as dt\n",
    "from typing import Tuple, List, Dict"
   ]
  },
  {
   "cell_type": "code",
   "execution_count": 2,
   "metadata": {},
   "outputs": [],
   "source": [
    "warnings.filterwarnings('ignore')"
   ]
  },
  {
   "cell_type": "code",
   "execution_count": 3,
   "metadata": {},
   "outputs": [],
   "source": [
    "def create_model(data, catcols):    \n",
    "    inputs = []\n",
    "    outputs = []\n",
    "    for c in catcols:\n",
    "        num_unique_values = int(data[c].nunique())\n",
    "        embed_dim = int(min(np.ceil((num_unique_values)/2), 20))\n",
    "        inp = layers.Input(shape=(1,))\n",
    "        out = layers.Embedding(num_unique_values + 1, embed_dim, name=c)(inp)\n",
    "        out = layers.SpatialDropout1D(0.25)(out)\n",
    "        out = layers.Reshape(target_shape=(embed_dim, ))(out)\n",
    "        inputs.append(inp)\n",
    "        outputs.append(out)\n",
    "    \n",
    "    x = layers.Concatenate()(outputs)\n",
    "    x = layers.BatchNormalization()(x)\n",
    "    \n",
    "    x = layers.Dense(300, activation='relu')(x)\n",
    "    x = layers.Dropout(0.3)(x)\n",
    "    x = layers.BatchNormalization()(x)\n",
    "    \n",
    "    x = layers.Dense(300, activation='relu')(x)\n",
    "    x = layers.Dropout(0.3)(x)\n",
    "    x = layers.BatchNormalization()(x)\n",
    "    \n",
    "    y = layers.Dense(1, activation='sigmoid')(x)\n",
    "\n",
    "    model = Model(inputs=inputs, outputs=y)\n",
    "    return model"
   ]
  },
  {
   "cell_type": "code",
   "execution_count": 4,
   "metadata": {},
   "outputs": [],
   "source": [
    "# read data\n",
    "in_kaggle = False\n",
    "\n",
    "\n",
    "def get_data_file_path(is_in_kaggle: bool) -> Tuple[str, str, str]:\n",
    "    train_path = ''\n",
    "    test_path = ''\n",
    "    sample_submission_path = ''\n",
    "\n",
    "    if is_in_kaggle:\n",
    "        # running in Kaggle, inside the competition\n",
    "        train_path = '../input/tabular-playground-series-mar-2021/train.csv'\n",
    "        test_path = '../input/tabular-playground-series-mar-2021/test.csv'\n",
    "        sample_submission_path = '../input/tabular-playground-series-mar-2021/sample_submission.csv'\n",
    "    else:\n",
    "        # running locally\n",
    "        train_path = 'data/train.csv'\n",
    "        test_path = 'data/test.csv'\n",
    "        sample_submission_path = 'data/sample_submission.csv'\n",
    "\n",
    "    return train_path, test_path, sample_submission_path"
   ]
  },
  {
   "cell_type": "code",
   "execution_count": 5,
   "metadata": {},
   "outputs": [
    {
     "name": "stdout",
     "output_type": "stream",
     "text": [
      "Started at  2021-03-30 23:35:22.436382\n"
     ]
    }
   ],
   "source": [
    "# main flow\n",
    "start_time = dt.datetime.now()\n",
    "print(\"Started at \", start_time)"
   ]
  },
  {
   "cell_type": "code",
   "execution_count": 6,
   "metadata": {
    "execution": {
     "iopub.execute_input": "2021-03-08T02:12:01.717190Z",
     "iopub.status.busy": "2021-03-08T02:12:01.716443Z",
     "iopub.status.idle": "2021-03-08T02:12:05.521366Z",
     "shell.execute_reply": "2021-03-08T02:12:05.519920Z"
    },
    "papermill": {
     "duration": 3.823831,
     "end_time": "2021-03-08T02:12:05.521545",
     "exception": false,
     "start_time": "2021-03-08T02:12:01.697714",
     "status": "completed"
    },
    "tags": []
   },
   "outputs": [
    {
     "name": "stdout",
     "output_type": "stream",
     "text": [
      "Wall time: 2.66 s\n"
     ]
    }
   ],
   "source": [
    "%%time\n",
    "# get the training set and labels\n",
    "train_set_path, test_set_path, sample_subm_path = get_data_file_path(in_kaggle)\n",
    "\n",
    "train = pd.read_csv(train_set_path)\n",
    "test = pd.read_csv(test_set_path)\n",
    "target = train.target\n",
    "\n",
    "test_id = test.id\n",
    "\n",
    "subm = pd.read_csv(sample_subm_path)"
   ]
  },
  {
   "cell_type": "code",
   "execution_count": 7,
   "metadata": {
    "execution": {
     "iopub.execute_input": "2021-03-08T02:12:05.564631Z",
     "iopub.status.busy": "2021-03-08T02:12:05.558072Z",
     "iopub.status.idle": "2021-03-08T02:12:05.713087Z",
     "shell.execute_reply": "2021-03-08T02:12:05.712456Z"
    },
    "papermill": {
     "duration": 0.177709,
     "end_time": "2021-03-08T02:12:05.713253",
     "exception": false,
     "start_time": "2021-03-08T02:12:05.535544",
     "status": "completed"
    },
    "tags": []
   },
   "outputs": [],
   "source": [
    "test_id = test.id.values\n",
    "train = train.drop(['id'], axis=1)\n",
    "test = test.drop(['id'], axis=1)"
   ]
  },
  {
   "cell_type": "code",
   "execution_count": 8,
   "metadata": {
    "execution": {
     "iopub.execute_input": "2021-03-08T02:12:05.773393Z",
     "iopub.status.busy": "2021-03-08T02:12:05.772477Z",
     "iopub.status.idle": "2021-03-08T02:12:10.759715Z",
     "shell.execute_reply": "2021-03-08T02:12:10.758497Z"
    },
    "papermill": {
     "duration": 5.03264,
     "end_time": "2021-03-08T02:12:10.759885",
     "exception": false,
     "start_time": "2021-03-08T02:12:05.727245",
     "status": "completed"
    },
    "tags": []
   },
   "outputs": [],
   "source": [
    "sparse_features = [f for f in train.columns if 'cat' in f]\n",
    "dense_features = [feat for feat in train.columns if  feat not in sparse_features+['target']]\n",
    "\n",
    "for col in sparse_features:\n",
    "    train_only = list(set(train[col].unique()) - set(test[col].unique()))\n",
    "    test_only = list(set(test[col].unique()) - set(train[col].unique()))\n",
    "    both = list(set(test[col].unique()).union(set(train[col].unique())))\n",
    "    train.loc[train[col].isin(train_only), col] = np.nan\n",
    "    test.loc[test[col].isin(test_only), col] = np.nan\n",
    "    mode = train[col].mode().values[0]\n",
    "    train[col] = train[col].fillna(mode)\n",
    "    test[col] = test[col].fillna(mode)\n",
    "    "
   ]
  },
  {
   "cell_type": "code",
   "execution_count": 9,
   "metadata": {
    "execution": {
     "iopub.execute_input": "2021-03-08T02:12:10.792796Z",
     "iopub.status.busy": "2021-03-08T02:12:10.791568Z",
     "iopub.status.idle": "2021-03-08T02:12:10.850094Z",
     "shell.execute_reply": "2021-03-08T02:12:10.849107Z"
    },
    "papermill": {
     "duration": 0.076663,
     "end_time": "2021-03-08T02:12:10.850249",
     "exception": false,
     "start_time": "2021-03-08T02:12:10.773586",
     "status": "completed"
    },
    "tags": []
   },
   "outputs": [],
   "source": [
    "for feat in dense_features:\n",
    "    test[feat] = np.clip(test[feat], train[feat].min(), train[feat].max())"
   ]
  },
  {
   "cell_type": "code",
   "execution_count": 10,
   "metadata": {
    "execution": {
     "iopub.execute_input": "2021-03-08T02:12:10.886653Z",
     "iopub.status.busy": "2021-03-08T02:12:10.885735Z",
     "iopub.status.idle": "2021-03-08T02:12:18.556475Z",
     "shell.execute_reply": "2021-03-08T02:12:18.557065Z"
    },
    "papermill": {
     "duration": 7.693395,
     "end_time": "2021-03-08T02:12:18.557250",
     "exception": false,
     "start_time": "2021-03-08T02:12:10.863855",
     "status": "completed"
    },
    "tags": []
   },
   "outputs": [],
   "source": [
    "test[\"target\"] = -1\n",
    "data = pd.concat([train, test]).reset_index(drop=True)\n",
    "\n",
    "for c in dense_features:\n",
    "    data[f'q_{c}'], bins_ = pd.qcut(data[c], 25, retbins=True, labels=[i for i in range(25)])\n",
    "    data[f'q_{c}'] = data[f'q_{c}'].astype('str')\n",
    "    sparse_features.append(f'q_{c}')"
   ]
  },
  {
   "cell_type": "code",
   "execution_count": 11,
   "metadata": {
    "execution": {
     "iopub.execute_input": "2021-03-08T02:12:18.688147Z",
     "iopub.status.busy": "2021-03-08T02:12:18.687167Z",
     "iopub.status.idle": "2021-03-08T02:13:13.612709Z",
     "shell.execute_reply": "2021-03-08T02:13:13.611895Z"
    },
    "papermill": {
     "duration": 55.038174,
     "end_time": "2021-03-08T02:13:13.612954",
     "exception": false,
     "start_time": "2021-03-08T02:12:18.574780",
     "status": "completed"
    },
    "tags": []
   },
   "outputs": [],
   "source": [
    "features = sparse_features\n",
    "for feat in features:\n",
    "    lbl_enc = preprocessing.OrdinalEncoder()\n",
    "    data[feat] = lbl_enc.fit_transform(data[feat].fillna('-1').values.reshape(-1,1).astype(str))\n",
    "    \n",
    "train = data[data.target != -1].reset_index(drop=True)\n",
    "test = data[data.target == -1].reset_index(drop=True)\n",
    "test_data = [test.loc[:, features].values[:, k] for k in range(test.loc[:, features].values.shape[1])]"
   ]
  },
  {
   "cell_type": "code",
   "execution_count": 12,
   "metadata": {
    "execution": {
     "iopub.execute_input": "2021-03-08T02:13:13.659538Z",
     "iopub.status.busy": "2021-03-08T02:13:13.658658Z",
     "iopub.status.idle": "2021-03-08T02:13:13.665850Z",
     "shell.execute_reply": "2021-03-08T02:13:13.667317Z"
    },
    "papermill": {
     "duration": 0.033902,
     "end_time": "2021-03-08T02:13:13.667519",
     "exception": false,
     "start_time": "2021-03-08T02:13:13.633617",
     "status": "completed"
    },
    "tags": []
   },
   "outputs": [],
   "source": [
    "oof_preds = np.zeros((len(train)))\n",
    "bagged_oof_preds = np.zeros((len(train)))\n",
    "test_preds = np.zeros((len(test)))\n",
    "bagged_test_preds = np.zeros((len(test)))\n",
    "learning_rate = 0.00095\n",
    "label_smoothing = 0.0\n",
    "Verbose = 0\n",
    "n_splits = [10, 15]\n",
    "n_bags = 2\n",
    "seeds = [2021, 2021]\n",
    "n_epochs=106"
   ]
  },
  {
   "cell_type": "code",
   "execution_count": 13,
   "metadata": {
    "execution": {
     "iopub.execute_input": "2021-03-08T02:13:13.718291Z",
     "iopub.status.busy": "2021-03-08T02:13:13.713756Z",
     "iopub.status.idle": "2021-03-08T03:59:07.857370Z",
     "shell.execute_reply": "2021-03-08T03:59:07.858166Z"
    },
    "papermill": {
     "duration": 6354.173795,
     "end_time": "2021-03-08T03:59:07.858414",
     "exception": false,
     "start_time": "2021-03-08T02:13:13.684619",
     "status": "completed"
    },
    "tags": []
   },
   "outputs": [
    {
     "name": "stdout",
     "output_type": "stream",
     "text": [
      "Iteration 1 splits 10 seed 2021\n",
      "fold 1 AUC : 0.8967671473659682\n",
      "fold 2 AUC : 0.8943639238159471\n",
      "fold 3 AUC : 0.892243698971869\n",
      "fold 4 AUC : 0.891725929405915\n",
      "fold 5 AUC : 0.8940745824192687\n",
      "fold 6 AUC : 0.8947464482700873\n",
      "fold 7 AUC : 0.8962599489512402\n",
      "fold 8 AUC : 0.8949227453991326\n",
      "fold 9 AUC : 0.8909032313449967\n",
      "fold 10 AUC : 0.8930278304852037\n",
      "Overall AUC of Iteration 1 = 0.8939035419903132\n",
      "Iteration 2 splits 15 seed 2021\n",
      "fold 1 AUC : 0.895729882483057\n",
      "fold 2 AUC : 0.8967605405992782\n",
      "fold 3 AUC : 0.8954609877936681\n",
      "fold 4 AUC : 0.8909061233581543\n",
      "fold 5 AUC : 0.8950622553094599\n",
      "fold 6 AUC : 0.8897915881261642\n",
      "fold 7 AUC : 0.8925182010773224\n",
      "fold 8 AUC : 0.8952172658689886\n",
      "fold 9 AUC : 0.8966495454630724\n",
      "fold 10 AUC : 0.895821306942058\n",
      "fold 11 AUC : 0.8985806816986095\n",
      "fold 12 AUC : 0.8928987365914883\n",
      "fold 13 AUC : 0.8935752764664187\n",
      "fold 14 AUC : 0.8910229469322822\n",
      "fold 15 AUC : 0.8933549049625584\n",
      "Overall AUC of Iteration 2 = 0.8942233475264485\n"
     ]
    }
   ],
   "source": [
    "for bag in range(n_bags):\n",
    "    print(f'Iteration {bag+1} splits {n_splits[bag]} seed {seeds[bag]}')\n",
    "    for fold, (train_index, test_index) in enumerate(StratifiedKFold(n_splits=n_splits[bag], shuffle=True, random_state=seeds[bag]).split(train, train.target.values)):\n",
    "        X_train, X_test = train.iloc[train_index, :], train.iloc[test_index, :]\n",
    "        X_train = X_train.reset_index(drop=True)\n",
    "        X_test = X_test.reset_index(drop=True)\n",
    "        y_train, y_test = X_train.target.values, X_test.target.values\n",
    "        model = create_model(data, features)\n",
    "        model.compile(\n",
    "            optimizer=tfa.optimizers.SWA(tf.keras.optimizers.Adam(learning_rate=learning_rate)),\n",
    "            loss=losses.BinaryCrossentropy(label_smoothing=label_smoothing),\n",
    "            metrics=metrics.AUC(name=\"AUC\"),\n",
    "        )\n",
    "\n",
    "        X_train = [X_train.loc[:, features].values[:, k] for k in range(X_train.loc[:, features].values.shape[1])]\n",
    "        X_test = [X_test.loc[:, features].values[:, k] for k in range(X_test.loc[:, features].values.shape[1])]\n",
    "    \n",
    "        es = callbacks.EarlyStopping(monitor='val_AUC', min_delta=0.000001, patience=10, verbose=Verbose, mode='max', baseline=None, restore_best_weights=True)\n",
    "        sb = callbacks.ModelCheckpoint('./nn_model.w8', save_weights_only=True, save_best_only=True, verbose=Verbose, monitor='val_AUC',mode='max')\n",
    "        plateau  = callbacks.ReduceLROnPlateau(monitor='val_AUC', factor=0.5, patience=2, verbose=Verbose,\n",
    "                                        mode='max', min_delta=0.0001, cooldown=0, min_lr=1e-7)\n",
    "        model.fit(X_train,\n",
    "                  y_train,\n",
    "                  validation_data=(X_test, y_test),\n",
    "                  verbose=Verbose,\n",
    "                  batch_size=1024,\n",
    "                  callbacks=[es, sb, plateau],\n",
    "                  epochs=n_epochs\n",
    "             )\n",
    "        valid_fold_preds = model.predict(X_test)\n",
    "        test_fold_preds = model.predict(test_data)\n",
    "        oof_preds[test_index] = rankdata(valid_fold_preds.ravel())/len(X_test)\n",
    "        test_preds += rankdata(test_fold_preds.ravel() / n_splits[bag])/len(test)\n",
    "        print(f'fold {fold+1} AUC : {skmetrics.roc_auc_score(y_test, valid_fold_preds)}')\n",
    "        K.clear_session()\n",
    "    print(f'Overall AUC of Iteration {bag+1} = {skmetrics.roc_auc_score(train.target.values, oof_preds)}')\n",
    "    np.save(f'oof_preds_{bag}',oof_preds)\n",
    "    np.save(f'test_preds_{bag}',test_preds)\n",
    "    bagged_test_preds += test_preds / n_bags\n",
    "    bagged_oof_preds += oof_preds / n_bags"
   ]
  },
  {
   "cell_type": "code",
   "execution_count": 14,
   "metadata": {
    "execution": {
     "iopub.execute_input": "2021-03-08T03:59:07.912489Z",
     "iopub.status.busy": "2021-03-08T03:59:07.911548Z",
     "iopub.status.idle": "2021-03-08T03:59:08.015890Z",
     "shell.execute_reply": "2021-03-08T03:59:08.015316Z"
    },
    "papermill": {
     "duration": 0.133281,
     "end_time": "2021-03-08T03:59:08.016067",
     "exception": false,
     "start_time": "2021-03-08T03:59:07.882786",
     "status": "completed"
    },
    "tags": []
   },
   "outputs": [
    {
     "name": "stdout",
     "output_type": "stream",
     "text": [
      "Overall AUC=0.8950077419461052\n"
     ]
    }
   ],
   "source": [
    "print(\"Overall AUC={}\".format(skmetrics.roc_auc_score(train.target.values, bagged_oof_preds)))"
   ]
  },
  {
   "cell_type": "code",
   "execution_count": 18,
   "metadata": {
    "execution": {
     "iopub.execute_input": "2021-03-08T03:59:08.071441Z",
     "iopub.status.busy": "2021-03-08T03:59:08.070490Z",
     "iopub.status.idle": "2021-03-08T03:59:08.997761Z",
     "shell.execute_reply": "2021-03-08T03:59:08.998415Z"
    },
    "papermill": {
     "duration": 0.958188,
     "end_time": "2021-03-08T03:59:08.998618",
     "exception": false,
     "start_time": "2021-03-08T03:59:08.040430",
     "status": "completed"
    },
    "tags": []
   },
   "outputs": [
    {
     "name": "stdout",
     "output_type": "stream",
     "text": [
      "Saving submission file\n"
     ]
    },
    {
     "data": {
      "text/html": [
       "<div>\n",
       "<style scoped>\n",
       "    .dataframe tbody tr th:only-of-type {\n",
       "        vertical-align: middle;\n",
       "    }\n",
       "\n",
       "    .dataframe tbody tr th {\n",
       "        vertical-align: top;\n",
       "    }\n",
       "\n",
       "    .dataframe thead th {\n",
       "        text-align: right;\n",
       "    }\n",
       "</style>\n",
       "<table border=\"1\" class=\"dataframe\">\n",
       "  <thead>\n",
       "    <tr style=\"text-align: right;\">\n",
       "      <th></th>\n",
       "      <th>id</th>\n",
       "      <th>target</th>\n",
       "    </tr>\n",
       "  </thead>\n",
       "  <tbody>\n",
       "    <tr>\n",
       "      <th>0</th>\n",
       "      <td>5</td>\n",
       "      <td>8.524240</td>\n",
       "    </tr>\n",
       "    <tr>\n",
       "      <th>1</th>\n",
       "      <td>6</td>\n",
       "      <td>13.794042</td>\n",
       "    </tr>\n",
       "    <tr>\n",
       "      <th>2</th>\n",
       "      <td>8</td>\n",
       "      <td>1.150105</td>\n",
       "    </tr>\n",
       "  </tbody>\n",
       "</table>\n",
       "</div>"
      ],
      "text/plain": [
       "   id     target\n",
       "0   5   8.524240\n",
       "1   6  13.794042\n",
       "2   8   1.150105"
      ]
     },
     "execution_count": 18,
     "metadata": {},
     "output_type": "execute_result"
    }
   ],
   "source": [
    "print('Saving submission file')\n",
    "submission = pd.DataFrame.from_dict({\n",
    "    'id': test_id,\n",
    "    'target': bagged_test_preds,\n",
    "})\n",
    "submission.to_csv('keras_embedding_lr00095_subm.csv', index=False)\n",
    "submission.head(3)"
   ]
  },
  {
   "cell_type": "code",
   "execution_count": 16,
   "metadata": {
    "execution": {
     "iopub.execute_input": "2021-03-08T03:59:09.073476Z",
     "iopub.status.busy": "2021-03-08T03:59:09.072744Z",
     "iopub.status.idle": "2021-03-08T03:59:10.168298Z",
     "shell.execute_reply": "2021-03-08T03:59:10.168960Z"
    },
    "papermill": {
     "duration": 1.142524,
     "end_time": "2021-03-08T03:59:10.169192",
     "exception": false,
     "start_time": "2021-03-08T03:59:09.026668",
     "status": "completed"
    },
    "tags": []
   },
   "outputs": [],
   "source": [
    "#top_public = pd.read_csv('/kaggle/input/tps-mar-2021-stacked-starter/submission.csv')\n",
    "#submission['target'] = (rankdata(submission.target) * 0.275 + rankdata(top_public.target) * 0.725)/len(submission)\n",
    "#submission.to_csv('blend.csv', index=False)\n",
    "#submission.head(3)"
   ]
  },
  {
   "cell_type": "code",
   "execution_count": 17,
   "metadata": {
    "papermill": {
     "duration": 0.025235,
     "end_time": "2021-03-08T03:59:10.224370",
     "exception": false,
     "start_time": "2021-03-08T03:59:10.199135",
     "status": "completed"
    },
    "tags": []
   },
   "outputs": [
    {
     "name": "stdout",
     "output_type": "stream",
     "text": [
      "We are done. That is all, folks!\n",
      "Finished at  2021-03-31 02:30:36.028785\n",
      "Elapsed time:  2:55:13.592403\n"
     ]
    }
   ],
   "source": [
    "print('We are done. That is all, folks!')\n",
    "finish_time = dt.datetime.now()\n",
    "print(\"Finished at \", finish_time)\n",
    "elapsed = finish_time - start_time\n",
    "print(\"Elapsed time: \", elapsed)"
   ]
  },
  {
   "cell_type": "markdown",
   "metadata": {},
   "source": [
    "Public LB Score: 0.89111"
   ]
  }
 ],
 "metadata": {
  "kernelspec": {
   "display_name": "Python 3",
   "language": "python",
   "name": "python3"
  },
  "language_info": {
   "codemirror_mode": {
    "name": "ipython",
    "version": 3
   },
   "file_extension": ".py",
   "mimetype": "text/x-python",
   "name": "python",
   "nbconvert_exporter": "python",
   "pygments_lexer": "ipython3",
   "version": "3.7.0"
  },
  "papermill": {
   "default_parameters": {},
   "duration": 6445.93215,
   "end_time": "2021-03-08T03:59:13.761542",
   "environment_variables": {},
   "exception": null,
   "input_path": "__notebook__.ipynb",
   "output_path": "__notebook__.ipynb",
   "parameters": {},
   "start_time": "2021-03-08T02:11:47.829392",
   "version": "2.2.2"
  }
 },
 "nbformat": 4,
 "nbformat_minor": 4
}
