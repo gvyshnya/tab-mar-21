{
 "cells": [
  {
   "cell_type": "markdown",
   "metadata": {},
   "source": [
    "# Introduction\n",
    "\n",
    "This notebook is intended to extract useful insights for the datasets of ‘Tabular Playground Series - Mar 2021’ competition in Kaggle. For this competition, it is required to tackle the Classification problem to predict a continuous target based on a number of feature columns given in the data. All of the feature columns, cat0 - cat9 are categorical, and the feature columns cont0 - cont13 are continuous.\n",
    "\n",
    "We are going to do the feature importance detection for raw features only, using Featurewiz (https://github.com/AutoViML/featurewiz)\n",
    "\n"
   ]
  },
  {
   "cell_type": "code",
   "execution_count": 1,
   "metadata": {},
   "outputs": [],
   "source": [
    "#!pip install featurewiz"
   ]
  },
  {
   "cell_type": "markdown",
   "metadata": {},
   "source": [
    "# Initial Preparations\n",
    "\n",
    "We are going to start with the essential pre-requisites as follows\n",
    "\n",
    "- installing *featurewiz* into this notebook\n",
    "- importing the standard Python packages we need to use down the road\n",
    "- programming the useful automation routines for repeatable data visualizations we are going to draw in the Advance Analytical EDA trials down the road"
   ]
  },
  {
   "cell_type": "code",
   "execution_count": 2,
   "metadata": {},
   "outputs": [
    {
     "name": "stderr",
     "output_type": "stream",
     "text": [
      "C:\\ProgramData\\Anaconda3\\lib\\site-packages\\numpy\\_distributor_init.py:32: UserWarning: loaded more than 1 DLL from .libs:\n",
      "C:\\ProgramData\\Anaconda3\\lib\\site-packages\\numpy\\.libs\\libopenblas.IPBC74C7KURV7CB2PKT5Z5FNR3SIBV4J.gfortran-win_amd64.dll\n",
      "C:\\ProgramData\\Anaconda3\\lib\\site-packages\\numpy\\.libs\\libopenblas.NOIJJG62EMASZI6NYURL6JBKM4EVBGM7.gfortran-win_amd64.dll\n",
      "  stacklevel=1)\n",
      "\n",
      "Bad key \"text.kerning_factor\" on line 4 in\n",
      "C:\\ProgramData\\Anaconda3\\lib\\site-packages\\matplotlib\\mpl-data\\stylelib\\_classic_test_patch.mplstyle.\n",
      "You probably need to get an updated matplotlibrc file from\n",
      "http://github.com/matplotlib/matplotlib/blob/master/matplotlibrc.template\n",
      "or from the matplotlib source distribution\n"
     ]
    }
   ],
   "source": [
    "import numpy as np # linear algebra\n",
    "import pandas as pd # data processing, CSV file I/O (e.g. pd.read_csv)\n",
    "import datetime as dt\n",
    "from typing import Tuple, List, Dict\n",
    "\n",
    "import matplotlib.pyplot as plt\n",
    "import seaborn as sns\n",
    "import plotly.graph_objects as go\n",
    "from plotly.subplots import make_subplots\n",
    "import plotly.express as px\n",
    "import plotly.offline\n",
    "\n",
    "\n",
    "# read data\n",
    "in_kaggle = False\n",
    "\n",
    "def get_data_file_path(is_in_kaggle: bool) -> Tuple[str, str, str]:\n",
    "    train_path = ''\n",
    "    test_path = ''\n",
    "    sample_submission_path = ''\n",
    "\n",
    "    if is_in_kaggle:\n",
    "        # running in Kaggle, inside the competition\n",
    "        train_path = '../input/tabular-playground-series-mar-2021/train.csv'\n",
    "        test_path = '../input/tabular-playground-series-mar-2021/test.csv'\n",
    "        sample_submission_path = '../input/tabular-playground-series-mar-2021/sample_submission.csv'\n",
    "    else:\n",
    "        # running locally\n",
    "        train_path = 'data/train.csv'\n",
    "        test_path = 'data/test.csv'\n",
    "        sample_submission_path = 'data/sample_submission.csv'\n",
    "\n",
    "    return train_path, test_path, sample_submission_path\n",
    "\n"
   ]
  },
  {
   "cell_type": "code",
   "execution_count": 3,
   "metadata": {},
   "outputs": [
    {
     "name": "stdout",
     "output_type": "stream",
     "text": [
      "Started at  2021-04-18 23:10:39.923382\n"
     ]
    }
   ],
   "source": [
    "# main flow\n",
    "start_time = dt.datetime.now()\n",
    "print(\"Started at \", start_time)"
   ]
  },
  {
   "cell_type": "code",
   "execution_count": 4,
   "metadata": {},
   "outputs": [
    {
     "name": "stdout",
     "output_type": "stream",
     "text": [
      "Wall time: 1.66 s\n"
     ]
    }
   ],
   "source": [
    "%%time\n",
    "# get the training set and labels\n",
    "train_set_path, test_set_path, sample_subm_path = get_data_file_path(in_kaggle)\n",
    "\n",
    "df_train = pd.read_csv(train_set_path)\n",
    "df_test = pd.read_csv(test_set_path)\n",
    "\n",
    "subm = pd.read_csv(sample_subm_path)"
   ]
  },
  {
   "cell_type": "markdown",
   "metadata": {},
   "source": [
    "# Basic Data Overview"
   ]
  },
  {
   "cell_type": "code",
   "execution_count": 5,
   "metadata": {},
   "outputs": [
    {
     "name": "stdout",
     "output_type": "stream",
     "text": [
      "<class 'pandas.core.frame.DataFrame'>\n",
      "RangeIndex: 300000 entries, 0 to 299999\n",
      "Data columns (total 32 columns):\n",
      " #   Column  Non-Null Count   Dtype  \n",
      "---  ------  --------------   -----  \n",
      " 0   id      300000 non-null  int64  \n",
      " 1   cat0    300000 non-null  object \n",
      " 2   cat1    300000 non-null  object \n",
      " 3   cat2    300000 non-null  object \n",
      " 4   cat3    300000 non-null  object \n",
      " 5   cat4    300000 non-null  object \n",
      " 6   cat5    300000 non-null  object \n",
      " 7   cat6    300000 non-null  object \n",
      " 8   cat7    300000 non-null  object \n",
      " 9   cat8    300000 non-null  object \n",
      " 10  cat9    300000 non-null  object \n",
      " 11  cat10   300000 non-null  object \n",
      " 12  cat11   300000 non-null  object \n",
      " 13  cat12   300000 non-null  object \n",
      " 14  cat13   300000 non-null  object \n",
      " 15  cat14   300000 non-null  object \n",
      " 16  cat15   300000 non-null  object \n",
      " 17  cat16   300000 non-null  object \n",
      " 18  cat17   300000 non-null  object \n",
      " 19  cat18   300000 non-null  object \n",
      " 20  cont0   300000 non-null  float64\n",
      " 21  cont1   300000 non-null  float64\n",
      " 22  cont2   300000 non-null  float64\n",
      " 23  cont3   300000 non-null  float64\n",
      " 24  cont4   300000 non-null  float64\n",
      " 25  cont5   300000 non-null  float64\n",
      " 26  cont6   300000 non-null  float64\n",
      " 27  cont7   300000 non-null  float64\n",
      " 28  cont8   300000 non-null  float64\n",
      " 29  cont9   300000 non-null  float64\n",
      " 30  cont10  300000 non-null  float64\n",
      " 31  target  300000 non-null  int64  \n",
      "dtypes: float64(11), int64(2), object(19)\n",
      "memory usage: 73.2+ MB\n"
     ]
    }
   ],
   "source": [
    "df_train.info()"
   ]
  },
  {
   "cell_type": "markdown",
   "metadata": {},
   "source": [
    "# Feature Importance of Raw Features\n",
    "\n",
    "We are going to invoke *featurewiz*, one of the prominent freeware Pythonic AutoML Feature Selection tools, to quickly identify the essential predictors"
   ]
  },
  {
   "cell_type": "code",
   "execution_count": 6,
   "metadata": {
    "scrolled": false
   },
   "outputs": [
    {
     "name": "stdout",
     "output_type": "stream",
     "text": [
      "Imported featurewiz: Auto_ViML's feature engg and selection library. Version=0.0.18\n",
      "output = featurewiz(dataname, target, corr_limit=0.70,\n",
      "                    verbose=2, sep=',', header=0, test_data='',\n",
      "                    feature_engg='', category_encoders='')\n",
      "Let featurewiz add features to your data! Set 'feature_engg' as: 'interactions' or 'groupby' or 'target'\n",
      "                                \n",
      "Skipping feature engineering since no feature_engg input...\n",
      "Shape of your Data Set loaded: (300000, 32)\n",
      "Number of GPUs = 1\n",
      "    No GPU active on this device\n",
      "    Running XGBoost using CPU parameters\n",
      "############## C L A S S I F Y I N G  V A R I A B L E S  ####################\n",
      "Classifying variables in data set...\n",
      "    31 Predictors classified...\n",
      "        5 variable(s) removed since they were ID or low-information variables\n",
      "#### Single_Label Binary_Classification Feature Selection Started ####\n",
      "Starting feature engineering...this will take time...\n",
      "Source X_train shape:  (300000, 26) | X_test shape:  (200000, 26)\n",
      "##################################################\n",
      "> Start preprocessing with 26 variables\n",
      "> Generate Categorical Encoded features\n",
      " + To know more, click: https://github.com/Alex-Lekov/AutoML_Alex/blob/master/automl_alex/encoders.py\n",
      " + added  0  additional Features using FrequencyEncoder\n",
      "> Cleaned NaNs in numeric features\n",
      "##################################################\n",
      "> Final Number of Features:  26\n",
      "##################################################\n",
      "New X_train shape:  (300000, 26) | X_test shape:  (200000, 41)\n",
      "    Completed feature engineering. Shape of Train (with target) = (300000, 27)\n",
      "Searching for highly correlated variables from 26 variables using SULOV method\n",
      "#####  SULOV : Searching for Uncorrelated List Of Variables (takes time...) ############\n",
      "    Removing (3) highly correlated variables:\n",
      "    ['cont0', 'cont2', 'cont7']\n",
      "    Following (23) vars selected: ['cont3', 'cont4', 'cont5', 'cont6', 'cont8', 'cont9', 'FrequencyEncoder_cat17', 'FrequencyEncoder_cat18', 'FrequencyEncoder_cat4', 'FrequencyEncoder_cat16', 'FrequencyEncoder_cat0', 'FrequencyEncoder_cat14', 'FrequencyEncoder_cat12', 'FrequencyEncoder_cat3', 'FrequencyEncoder_cat9', 'FrequencyEncoder_cat13', 'FrequencyEncoder_cat15', 'FrequencyEncoder_cat6', 'FrequencyEncoder_cat11', 'FrequencyEncoder_cat1', 'FrequencyEncoder_cat2', 'cont1', 'cont10']\n"
     ]
    },
    {
     "data": {
      "image/png": "[encoded data removed]",
      "text/plain": [
       "<Figure size 1080x360 with 1 Axes>"
      ]
     },
     "metadata": {},
     "output_type": "display_data"
    },
    {
     "name": "stdout",
     "output_type": "stream",
     "text": [
      "    Adding 0 categorical variables to reduced numeric variables  of 23\n",
      "############## F E A T U R E   S E L E C T I O N  ####################\n",
      "Current number of predictors = 23 \n",
      "    Finding Important Features using Boosted Trees algorithm...\n",
      "        using 23 variables...\n",
      "        using 18 variables...\n",
      "        using 13 variables...\n",
      "        using 8 variables...\n",
      "        using 3 variables...\n",
      "Selected 15 important features from your dataset\n",
      "    Time taken (in seconds) = 140\n",
      "Returning list of 15 important features and dataframe.\n",
      "Returning 2 dataframes: train and test with 15 important features.\n"
     ]
    }
   ],
   "source": [
    "from featurewiz import featurewiz\n",
    "\n",
    "# out1 and out2: is always a tuple containing two objects. \n",
    "# In our case, it is going to be \"test\" and \"train\" dataframes with the important features selected by featurewiz\n",
    "trainm, testm = featurewiz(\n",
    "    df_train, \n",
    "    target='target', \n",
    "    corr_limit=0.7, \n",
    "    verbose=2, \n",
    "    sep=\",\",\n",
    "    header=0,\n",
    "    test_data=df_test,     \n",
    "    feature_engg=\"\", # we do not want featurewiz to create any additional features in this experiment\n",
    "    category_encoders=\"FrequencyEncoder\" #OrdinalEncoder\n",
    ")"
   ]
  },
  {
   "cell_type": "code",
   "execution_count": 7,
   "metadata": {},
   "outputs": [
    {
     "data": {
      "text/plain": [
       "Index(['FrequencyEncoder_cat16', 'FrequencyEncoder_cat15',\n",
       "       'FrequencyEncoder_cat18', 'FrequencyEncoder_cat0',\n",
       "       'FrequencyEncoder_cat14', 'FrequencyEncoder_cat11',\n",
       "       'FrequencyEncoder_cat13', 'FrequencyEncoder_cat17',\n",
       "       'FrequencyEncoder_cat1', 'cont5', 'FrequencyEncoder_cat4',\n",
       "       'FrequencyEncoder_cat2', 'cont1', 'FrequencyEncoder_cat6', 'cont10',\n",
       "       'target'],\n",
       "      dtype='object')"
      ]
     },
     "metadata": {},
     "output_type": "display_data"
    }
   ],
   "source": [
    "# check the important features detected by featurewiz\n",
    "display(trainm.columns)"
   ]
  },
  {
   "cell_type": "code",
   "execution_count": 8,
   "metadata": {},
   "outputs": [
    {
     "name": "stdout",
     "output_type": "stream",
     "text": [
      "We are done. That is all, folks!\n",
      "Finished at  2021-04-18 23:13:02.902602\n",
      "Elapsed time:  0:02:22.979220\n"
     ]
    }
   ],
   "source": [
    "print('We are done. That is all, folks!')\n",
    "finish_time = dt.datetime.now()\n",
    "print(\"Finished at \", finish_time)\n",
    "elapsed = finish_time - start_time\n",
    "print(\"Elapsed time: \", elapsed)"
   ]
  },
  {
   "cell_type": "markdown",
   "metadata": {},
   "source": [
    "# Results of Experiments\n",
    "\n",
    "Below are the important raw features selected by featurewiz under different category encoding techniques applied\n",
    "- Cats without encoding: ('cat16', 'cat15', 'cat0', 'cat18', 'cat14', 'cat11', 'cat13', 'cat17', 'cat4', 'cat1', 'cat2', 'cat12')\n",
    "- OrdinalEncoder applied: ('OrdinalEncoder_cat16', 'OrdinalEncoder_cat15', 'OrdinalEncoder_cat0', 'OrdinalEncoder_cat18', 'OrdinalEncoder_cat14', 'OrdinalEncoder_cat11', 'OrdinalEncoder_cat13', 'OrdinalEncoder_cat1', 'OrdinalEncoder_cat17', 'cont5', 'OrdinalEncoder_cat4', 'cont1', 'OrdinalEncoder_cat2', 'cont10')\n",
    "- FrequencyEncoder applied: ('FrequencyEncoder_cat16', 'FrequencyEncoder_cat15', 'FrequencyEncoder_cat18', 'FrequencyEncoder_cat0','FrequencyEncoder_cat14', 'FrequencyEncoder_cat11', 'FrequencyEncoder_cat13', 'FrequencyEncoder_cat17','FrequencyEncoder_cat1', 'cont5', 'FrequencyEncoder_cat4','FrequencyEncoder_cat2', 'cont1', 'FrequencyEncoder_cat6', 'cont10')\n",
    "\n",
    "As we can see, the same set of raw features selected for the final model in the cases of OrdinalEncoder and FrequencyEncoder applied. However, in the case when we relied on the default category handler of featurewiz, it did not detect any continual variable to be important at the end."
   ]
  },
  {
   "cell_type": "markdown",
   "metadata": {},
   "source": [
    "# References\n",
    "\n",
    "- [featurewiz repo](https://github.com/AutoViML/featurewiz)"
   ]
  }
 ],
 "metadata": {
  "kernelspec": {
   "display_name": "Python 3",
   "language": "python",
   "name": "python3"
  },
  "language_info": {
   "codemirror_mode": {
    "name": "ipython",
    "version": 3
   },
   "file_extension": ".py",
   "mimetype": "text/x-python",
   "name": "python",
   "nbconvert_exporter": "python",
   "pygments_lexer": "ipython3",
   "version": "3.7.0"
  }
 },
 "nbformat": 4,
 "nbformat_minor": 2
}
